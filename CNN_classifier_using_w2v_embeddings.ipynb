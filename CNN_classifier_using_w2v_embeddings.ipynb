{
 "cells": [
  {
   "cell_type": "markdown",
   "metadata": {},
   "source": [
    "### 1. Making all the necessary imports"
   ]
  },
  {
   "cell_type": "code",
   "execution_count": 1,
   "metadata": {
    "ExecuteTime": {
     "end_time": "2020-01-07T13:13:41.631427Z",
     "start_time": "2020-01-07T13:13:36.607078Z"
    }
   },
   "outputs": [
    {
     "name": "stderr",
     "output_type": "stream",
     "text": [
      "/Users/akshitasood/Desktop/py3/lib/python3.6/site-packages/matplotlib/__init__.py:1066: UserWarning: Duplicate key in file \"/Users/akshitasood/.matplotlib/matplotlibrc\", line #2\n",
      "  (fname, cnt))\n"
     ]
    }
   ],
   "source": [
    "import pandas as pd\n",
    "import numpy as np\n",
    "\n",
    "from re import sub\n",
    "import seaborn as sns\n",
    "import matplotlib.pyplot as plt\n",
    "\n",
    "\n",
    "import gc\n",
    "import gensim\n",
    "import itertools\n",
    "from nltk.tokenize import word_tokenize\n",
    "from gensim.models.word2vec import Word2Vec\n",
    "from sklearn.model_selection import train_test_split"
   ]
  },
  {
   "cell_type": "code",
   "execution_count": 2,
   "metadata": {
    "ExecuteTime": {
     "end_time": "2020-01-07T13:13:45.332840Z",
     "start_time": "2020-01-07T13:13:41.634542Z"
    }
   },
   "outputs": [
    {
     "name": "stderr",
     "output_type": "stream",
     "text": [
      "Using TensorFlow backend.\n",
      "/Users/akshitasood/Desktop/py3/lib/python3.6/site-packages/tensorflow/python/framework/dtypes.py:526: FutureWarning: Passing (type, 1) or '1type' as a synonym of type is deprecated; in a future version of numpy, it will be understood as (type, (1,)) / '(1,)type'.\n",
      "  _np_qint8 = np.dtype([(\"qint8\", np.int8, 1)])\n",
      "/Users/akshitasood/Desktop/py3/lib/python3.6/site-packages/tensorflow/python/framework/dtypes.py:527: FutureWarning: Passing (type, 1) or '1type' as a synonym of type is deprecated; in a future version of numpy, it will be understood as (type, (1,)) / '(1,)type'.\n",
      "  _np_quint8 = np.dtype([(\"quint8\", np.uint8, 1)])\n",
      "/Users/akshitasood/Desktop/py3/lib/python3.6/site-packages/tensorflow/python/framework/dtypes.py:528: FutureWarning: Passing (type, 1) or '1type' as a synonym of type is deprecated; in a future version of numpy, it will be understood as (type, (1,)) / '(1,)type'.\n",
      "  _np_qint16 = np.dtype([(\"qint16\", np.int16, 1)])\n",
      "/Users/akshitasood/Desktop/py3/lib/python3.6/site-packages/tensorflow/python/framework/dtypes.py:529: FutureWarning: Passing (type, 1) or '1type' as a synonym of type is deprecated; in a future version of numpy, it will be understood as (type, (1,)) / '(1,)type'.\n",
      "  _np_quint16 = np.dtype([(\"quint16\", np.uint16, 1)])\n",
      "/Users/akshitasood/Desktop/py3/lib/python3.6/site-packages/tensorflow/python/framework/dtypes.py:530: FutureWarning: Passing (type, 1) or '1type' as a synonym of type is deprecated; in a future version of numpy, it will be understood as (type, (1,)) / '(1,)type'.\n",
      "  _np_qint32 = np.dtype([(\"qint32\", np.int32, 1)])\n",
      "/Users/akshitasood/Desktop/py3/lib/python3.6/site-packages/tensorflow/python/framework/dtypes.py:535: FutureWarning: Passing (type, 1) or '1type' as a synonym of type is deprecated; in a future version of numpy, it will be understood as (type, (1,)) / '(1,)type'.\n",
      "  np_resource = np.dtype([(\"resource\", np.ubyte, 1)])\n"
     ]
    }
   ],
   "source": [
    "from keras.models import Sequential,Model\n",
    "from keras import regularizers\n",
    "from keras.layers.convolutional import Conv1D\n",
    "from keras.layers.core import Activation,Flatten, Dropout\n",
    "from keras.layers import Input, Dense, merge, Lambda,AveragePooling1D,AveragePooling2D,BatchNormalization,LeakyReLU,Activation,concatenate,GlobalMaxPooling1D\n",
    "from keras.layers.pooling import MaxPooling1D\n",
    "from keras.layers.merge import Concatenate\n",
    "from keras import optimizers,regularizers\n",
    "# from keras.callbacks import Callback\n",
    "from keras import callbacks\n",
    "\n",
    "import keras.backend as K"
   ]
  },
  {
   "cell_type": "code",
   "execution_count": 3,
   "metadata": {
    "ExecuteTime": {
     "end_time": "2020-01-07T13:13:45.389794Z",
     "start_time": "2020-01-07T13:13:45.344117Z"
    },
    "scrolled": true
   },
   "outputs": [
    {
     "data": {
      "text/html": [
       "<div>\n",
       "<style scoped>\n",
       "    .dataframe tbody tr th:only-of-type {\n",
       "        vertical-align: middle;\n",
       "    }\n",
       "\n",
       "    .dataframe tbody tr th {\n",
       "        vertical-align: top;\n",
       "    }\n",
       "\n",
       "    .dataframe thead th {\n",
       "        text-align: right;\n",
       "    }\n",
       "</style>\n",
       "<table border=\"1\" class=\"dataframe\">\n",
       "  <thead>\n",
       "    <tr style=\"text-align: right;\">\n",
       "      <th></th>\n",
       "      <th>Unnamed: 0</th>\n",
       "      <th>Body</th>\n",
       "      <th>Credit</th>\n",
       "      <th>Expense</th>\n",
       "    </tr>\n",
       "  </thead>\n",
       "  <tbody>\n",
       "    <tr>\n",
       "      <td>0</td>\n",
       "      <td>0</td>\n",
       "      <td>Your Acc XX800006 is debited for INR 90.00 on ...</td>\n",
       "      <td>0.0</td>\n",
       "      <td>90.00</td>\n",
       "    </tr>\n",
       "    <tr>\n",
       "      <td>1</td>\n",
       "      <td>1</td>\n",
       "      <td>We noticed that you abandoned your cart! We've...</td>\n",
       "      <td>0.0</td>\n",
       "      <td>0.00</td>\n",
       "    </tr>\n",
       "    <tr>\n",
       "      <td>2</td>\n",
       "      <td>2</td>\n",
       "      <td>Acct XXX423 debited with INR105.00 on 10-Oct-1...</td>\n",
       "      <td>0.0</td>\n",
       "      <td>105.00</td>\n",
       "    </tr>\n",
       "    <tr>\n",
       "      <td>3</td>\n",
       "      <td>3</td>\n",
       "      <td>Your Acc XX800006 is debited for INR 577.52 on...</td>\n",
       "      <td>0.0</td>\n",
       "      <td>577.52</td>\n",
       "    </tr>\n",
       "    <tr>\n",
       "      <td>4</td>\n",
       "      <td>4</td>\n",
       "      <td>Acct XXX423 debited with INR18.00 on 10-Oct-19...</td>\n",
       "      <td>0.0</td>\n",
       "      <td>18.00</td>\n",
       "    </tr>\n",
       "  </tbody>\n",
       "</table>\n",
       "</div>"
      ],
      "text/plain": [
       "   Unnamed: 0                                               Body  Credit  \\\n",
       "0           0  Your Acc XX800006 is debited for INR 90.00 on ...     0.0   \n",
       "1           1  We noticed that you abandoned your cart! We've...     0.0   \n",
       "2           2  Acct XXX423 debited with INR105.00 on 10-Oct-1...     0.0   \n",
       "3           3  Your Acc XX800006 is debited for INR 577.52 on...     0.0   \n",
       "4           4  Acct XXX423 debited with INR18.00 on 10-Oct-19...     0.0   \n",
       "\n",
       "   Expense  \n",
       "0    90.00  \n",
       "1     0.00  \n",
       "2   105.00  \n",
       "3   577.52  \n",
       "4    18.00  "
      ]
     },
     "execution_count": 3,
     "metadata": {},
     "output_type": "execute_result"
    }
   ],
   "source": [
    "df = pd.read_csv(\"sms_data_corpus.csv\")\n",
    "df.head()"
   ]
  },
  {
   "cell_type": "code",
   "execution_count": 4,
   "metadata": {
    "ExecuteTime": {
     "end_time": "2020-01-07T13:13:45.423404Z",
     "start_time": "2020-01-07T13:13:45.396495Z"
    }
   },
   "outputs": [
    {
     "data": {
      "text/html": [
       "<div>\n",
       "<style scoped>\n",
       "    .dataframe tbody tr th:only-of-type {\n",
       "        vertical-align: middle;\n",
       "    }\n",
       "\n",
       "    .dataframe tbody tr th {\n",
       "        vertical-align: top;\n",
       "    }\n",
       "\n",
       "    .dataframe thead th {\n",
       "        text-align: right;\n",
       "    }\n",
       "</style>\n",
       "<table border=\"1\" class=\"dataframe\">\n",
       "  <thead>\n",
       "    <tr style=\"text-align: right;\">\n",
       "      <th></th>\n",
       "      <th>Body</th>\n",
       "      <th>Credit</th>\n",
       "      <th>Expense</th>\n",
       "    </tr>\n",
       "  </thead>\n",
       "  <tbody>\n",
       "    <tr>\n",
       "      <td>0</td>\n",
       "      <td>Your Acc XX800006 is debited for INR 90.00 on ...</td>\n",
       "      <td>0.0</td>\n",
       "      <td>90.00</td>\n",
       "    </tr>\n",
       "    <tr>\n",
       "      <td>1</td>\n",
       "      <td>We noticed that you abandoned your cart! We've...</td>\n",
       "      <td>0.0</td>\n",
       "      <td>0.00</td>\n",
       "    </tr>\n",
       "    <tr>\n",
       "      <td>2</td>\n",
       "      <td>Acct XXX423 debited with INR105.00 on 10-Oct-1...</td>\n",
       "      <td>0.0</td>\n",
       "      <td>105.00</td>\n",
       "    </tr>\n",
       "    <tr>\n",
       "      <td>3</td>\n",
       "      <td>Your Acc XX800006 is debited for INR 577.52 on...</td>\n",
       "      <td>0.0</td>\n",
       "      <td>577.52</td>\n",
       "    </tr>\n",
       "    <tr>\n",
       "      <td>4</td>\n",
       "      <td>Acct XXX423 debited with INR18.00 on 10-Oct-19...</td>\n",
       "      <td>0.0</td>\n",
       "      <td>18.00</td>\n",
       "    </tr>\n",
       "  </tbody>\n",
       "</table>\n",
       "</div>"
      ],
      "text/plain": [
       "                                                Body  Credit  Expense\n",
       "0  Your Acc XX800006 is debited for INR 90.00 on ...     0.0    90.00\n",
       "1  We noticed that you abandoned your cart! We've...     0.0     0.00\n",
       "2  Acct XXX423 debited with INR105.00 on 10-Oct-1...     0.0   105.00\n",
       "3  Your Acc XX800006 is debited for INR 577.52 on...     0.0   577.52\n",
       "4  Acct XXX423 debited with INR18.00 on 10-Oct-19...     0.0    18.00"
      ]
     },
     "execution_count": 4,
     "metadata": {},
     "output_type": "execute_result"
    }
   ],
   "source": [
    "df.reset_index(inplace=True)\n",
    "df.drop(columns=['index','Unnamed: 0'],inplace=True)\n",
    "df.head()"
   ]
  },
  {
   "cell_type": "code",
   "execution_count": 5,
   "metadata": {
    "ExecuteTime": {
     "end_time": "2020-01-07T13:13:45.435078Z",
     "start_time": "2020-01-07T13:13:45.427044Z"
    }
   },
   "outputs": [],
   "source": [
    "def getClassLabels(row):\n",
    "    credit = row['Credit']\n",
    "    exp = row['Expense']\n",
    "    if credit==0 and exp==0:\n",
    "        return 'NonTrans'\n",
    "    elif credit!=0 and exp==0:\n",
    "        return 'Credit'\n",
    "    else:\n",
    "        return 'Debit'"
   ]
  },
  {
   "cell_type": "code",
   "execution_count": 6,
   "metadata": {
    "ExecuteTime": {
     "end_time": "2020-01-07T13:13:45.605509Z",
     "start_time": "2020-01-07T13:13:45.438385Z"
    }
   },
   "outputs": [],
   "source": [
    "df['Label'] = df.apply(getClassLabels,axis=1)"
   ]
  },
  {
   "cell_type": "code",
   "execution_count": 7,
   "metadata": {
    "ExecuteTime": {
     "end_time": "2020-01-07T13:13:45.626276Z",
     "start_time": "2020-01-07T13:13:45.610918Z"
    },
    "scrolled": true
   },
   "outputs": [
    {
     "data": {
      "text/html": [
       "<div>\n",
       "<style scoped>\n",
       "    .dataframe tbody tr th:only-of-type {\n",
       "        vertical-align: middle;\n",
       "    }\n",
       "\n",
       "    .dataframe tbody tr th {\n",
       "        vertical-align: top;\n",
       "    }\n",
       "\n",
       "    .dataframe thead th {\n",
       "        text-align: right;\n",
       "    }\n",
       "</style>\n",
       "<table border=\"1\" class=\"dataframe\">\n",
       "  <thead>\n",
       "    <tr style=\"text-align: right;\">\n",
       "      <th></th>\n",
       "      <th>Body</th>\n",
       "      <th>Credit</th>\n",
       "      <th>Expense</th>\n",
       "      <th>Label</th>\n",
       "    </tr>\n",
       "  </thead>\n",
       "  <tbody>\n",
       "    <tr>\n",
       "      <td>0</td>\n",
       "      <td>Your Acc XX800006 is debited for INR 90.00 on ...</td>\n",
       "      <td>0.0</td>\n",
       "      <td>90.00</td>\n",
       "      <td>Debit</td>\n",
       "    </tr>\n",
       "    <tr>\n",
       "      <td>1</td>\n",
       "      <td>We noticed that you abandoned your cart! We've...</td>\n",
       "      <td>0.0</td>\n",
       "      <td>0.00</td>\n",
       "      <td>NonTrans</td>\n",
       "    </tr>\n",
       "    <tr>\n",
       "      <td>2</td>\n",
       "      <td>Acct XXX423 debited with INR105.00 on 10-Oct-1...</td>\n",
       "      <td>0.0</td>\n",
       "      <td>105.00</td>\n",
       "      <td>Debit</td>\n",
       "    </tr>\n",
       "    <tr>\n",
       "      <td>3</td>\n",
       "      <td>Your Acc XX800006 is debited for INR 577.52 on...</td>\n",
       "      <td>0.0</td>\n",
       "      <td>577.52</td>\n",
       "      <td>Debit</td>\n",
       "    </tr>\n",
       "    <tr>\n",
       "      <td>4</td>\n",
       "      <td>Acct XXX423 debited with INR18.00 on 10-Oct-19...</td>\n",
       "      <td>0.0</td>\n",
       "      <td>18.00</td>\n",
       "      <td>Debit</td>\n",
       "    </tr>\n",
       "    <tr>\n",
       "      <td>5</td>\n",
       "      <td>HSBC: Your credit card xxxxx8307 has been used...</td>\n",
       "      <td>0.0</td>\n",
       "      <td>287.00</td>\n",
       "      <td>Debit</td>\n",
       "    </tr>\n",
       "    <tr>\n",
       "      <td>6</td>\n",
       "      <td>HSBC: Your credit card xxxxx8307 has been used...</td>\n",
       "      <td>0.0</td>\n",
       "      <td>435.00</td>\n",
       "      <td>Debit</td>\n",
       "    </tr>\n",
       "    <tr>\n",
       "      <td>7</td>\n",
       "      <td>Acct XXX423 debited with INR18.00 on 09-Oct-19...</td>\n",
       "      <td>0.0</td>\n",
       "      <td>18.00</td>\n",
       "      <td>Debit</td>\n",
       "    </tr>\n",
       "    <tr>\n",
       "      <td>8</td>\n",
       "      <td>Dear Customer  your Credit Card ending xxxxx83...</td>\n",
       "      <td>0.0</td>\n",
       "      <td>337.20</td>\n",
       "      <td>Debit</td>\n",
       "    </tr>\n",
       "    <tr>\n",
       "      <td>9</td>\n",
       "      <td>HSBC: Your credit card xxxxx8307 has been used...</td>\n",
       "      <td>0.0</td>\n",
       "      <td>6262.95</td>\n",
       "      <td>Debit</td>\n",
       "    </tr>\n",
       "  </tbody>\n",
       "</table>\n",
       "</div>"
      ],
      "text/plain": [
       "                                                Body  Credit  Expense  \\\n",
       "0  Your Acc XX800006 is debited for INR 90.00 on ...     0.0    90.00   \n",
       "1  We noticed that you abandoned your cart! We've...     0.0     0.00   \n",
       "2  Acct XXX423 debited with INR105.00 on 10-Oct-1...     0.0   105.00   \n",
       "3  Your Acc XX800006 is debited for INR 577.52 on...     0.0   577.52   \n",
       "4  Acct XXX423 debited with INR18.00 on 10-Oct-19...     0.0    18.00   \n",
       "5  HSBC: Your credit card xxxxx8307 has been used...     0.0   287.00   \n",
       "6  HSBC: Your credit card xxxxx8307 has been used...     0.0   435.00   \n",
       "7  Acct XXX423 debited with INR18.00 on 09-Oct-19...     0.0    18.00   \n",
       "8  Dear Customer  your Credit Card ending xxxxx83...     0.0   337.20   \n",
       "9  HSBC: Your credit card xxxxx8307 has been used...     0.0  6262.95   \n",
       "\n",
       "      Label  \n",
       "0     Debit  \n",
       "1  NonTrans  \n",
       "2     Debit  \n",
       "3     Debit  \n",
       "4     Debit  \n",
       "5     Debit  \n",
       "6     Debit  \n",
       "7     Debit  \n",
       "8     Debit  \n",
       "9     Debit  "
      ]
     },
     "execution_count": 7,
     "metadata": {},
     "output_type": "execute_result"
    }
   ],
   "source": [
    "df.head(10)"
   ]
  },
  {
   "cell_type": "code",
   "execution_count": 8,
   "metadata": {
    "ExecuteTime": {
     "end_time": "2020-01-07T13:13:45.641455Z",
     "start_time": "2020-01-07T13:13:45.630434Z"
    }
   },
   "outputs": [
    {
     "data": {
      "text/plain": [
       "Debit       2340\n",
       "NonTrans     618\n",
       "Credit       570\n",
       "Name: Label, dtype: int64"
      ]
     },
     "execution_count": 8,
     "metadata": {},
     "output_type": "execute_result"
    }
   ],
   "source": [
    "df.Label.value_counts()"
   ]
  },
  {
   "cell_type": "markdown",
   "metadata": {},
   "source": [
    "### 2. Preprocessing the data :\n",
    "#### removing all the unnecessary symbols and most common tokens from the sentences"
   ]
  },
  {
   "cell_type": "code",
   "execution_count": 9,
   "metadata": {
    "ExecuteTime": {
     "end_time": "2020-01-07T13:13:45.658073Z",
     "start_time": "2020-01-07T13:13:45.645111Z"
    }
   },
   "outputs": [],
   "source": [
    "def clean_text(sent):\n",
    "    WEB_URL_REGEX = r\"\"\"(?i)\\b((?:https?:(?:/{1,3}|[a-z0-9%])|[a-z0-9.\\-]+[.](?:com|net|org|edu|gov|mil|aero|asia|biz|cat|coop|info|int|jobs|mobi|museum|name|post|pro|tel|travel|xxx|ac|ad|ae|af|ag|ai|al|am|an|ao|aq|ar|as|at|au|aw|ax|az|ba|bb|bd|be|bf|bg|bh|bi|bj|bm|bn|bo|br|bs|bt|bv|bw|by|bz|ca|cc|cd|cf|cg|ch|ci|ck|cl|cm|cn|co|cr|cs|cu|cv|cx|cy|cz|dd|de|dj|dk|dm|do|dz|ec|ee|eg|eh|er|es|et|eu|fi|fj|fk|fm|fo|fr|ga|gb|gd|ge|gf|gg|gh|gi|gl|gm|gn|gp|gq|gr|gs|gt|gu|gw|gy|hk|hm|hn|hr|ht|hu|id|ie|il|im|in|io|iq|ir|is|it|je|jm|jo|jp|ke|kg|kh|ki|km|kn|kp|kr|kw|ky|kz|la|lb|lc|li|lk|lr|ls|lt|lu|lv|ly|ma|mc|md|me|mg|mh|mk|ml|mm|mn|mo|mp|mq|mr|ms|mt|mu|mv|mw|mx|my|mz|na|nc|ne|nf|ng|ni|nl|no|np|nr|nu|nz|om|pa|pe|pf|pg|ph|pk|pl|pm|pn|pr|ps|pt|pw|py|qa|re|ro|rs|ru|rw|sa|sb|sc|sd|se|sg|sh|si|sj|Ja|sk|sl|sm|sn|so|sr|ss|st|su|sv|sx|sy|sz|tc|td|tf|tg|th|tj|tk|tl|tm|tn|to|tp|tr|tt|tv|tw|tz|ua|ug|uk|us|uy|uz|va|vc|ve|vg|vi|vn|vu|wf|ws|ye|yt|yu|za|zm|zw)/)(?:[^\\s()<>{}\\[\\]]+|\\([^\\s()]*?\\([^\\s()]+\\)[^\\s()]*?\\)|\\([^\\s]+?\\))+(?:\\([^\\s()]*?\\([^\\s()]+\\)[^\\s()]*?\\)|\\([^\\s]+?\\)|[^\\s`!()\\[\\]{};:'\".,<>?«»“”‘’])|(?:(?<!@)[a-z0-9]+(?:[.\\-][a-z0-9]+)*[.](?:com|net|org|edu|gov|mil|aero|asia|biz|cat|coop|info|int|jobs|mobi|museum|name|post|pro|tel|travel|xxx|ac|ad|ae|af|ag|ai|al|am|an|ao|aq|ar|as|at|au|aw|ax|az|ba|bb|bd|be|bf|bg|bh|bi|bj|bm|bn|bo|br|bs|bt|bv|bw|by|bz|ca|cc|cd|cf|cg|ch|ci|ck|cl|cm|cn|co|cr|cs|cu|cv|cx|cy|cz|dd|de|dj|dk|dm|do|dz|ec|ee|eg|eh|er|es|et|eu|fi|fj|fk|fm|fo|fr|ga|gb|gd|ge|gf|gg|gh|gi|gl|gm|gn|gp|gq|gr|gs|gt|gu|gw|gy|hk|hm|hn|hr|ht|hu|id|ie|il|im|in|io|iq|ir|is|it|je|jm|jo|jp|ke|kg|kh|ki|km|kn|kp|kr|kw|ky|kz|la|lb|lc|li|lk|lr|ls|lt|lu|lv|ly|ma|mc|md|me|mg|mh|mk|ml|mm|mn|mo|mp|mq|mr|ms|mt|mu|mv|mw|mx|my|mz|na|nc|ne|nf|ng|ni|nl|no|np|nr|nu|nz|om|pa|pe|pf|pg|ph|pk|pl|pm|pn|pr|ps|pt|pw|py|qa|re|ro|rs|ru|rw|sa|sb|sc|sd|se|sg|sh|si|sj|Ja|sk|sl|sm|sn|so|sr|ss|st|su|sv|sx|sy|sz|tc|td|tf|tg|th|tj|tk|tl|tm|tn|to|tp|tr|tt|tv|tw|tz|ua|ug|uk|us|uy|uz|va|vc|ve|vg|vi|vn|vu|wf|ws|ye|yt|yu|za|zm|zw)\\b/?(?!@)))\"\"\"\n",
    "    sent = sent.lower()\n",
    "    sent = sub(WEB_URL_REGEX, \" \", sent) # removing url\n",
    "    sent = sub(r\"[^\\s]+@([\\w_-]+(?:(?:\\.[\\w_-]+)+))([\\w.,@?^=%&:/~+#-]*[\\w@?^=%&/~+#-])?\",\" \",sent) #replace email with space\n",
    "    sent = sent.replace('&nbsp;',' ') \n",
    "    sent = sent.replace('&amp;',' ')\n",
    "    sent = sub(\"\\d\\d\\d\\d\\d+\",\" \",sent) # remove numbers with more than 5 digits\n",
    "    sent = sub(\"(\\d)*xx[x]*(\\d)*\",' ',sent)#removing the account numbers\n",
    "    sent = sub(\"[a-z]*[0-9]*@[a-z]*\",' ',sent)#removing few @tags and email\n",
    "    sent = sent.strip()\n",
    "    \n",
    "    return sent"
   ]
  },
  {
   "cell_type": "code",
   "execution_count": 10,
   "metadata": {
    "ExecuteTime": {
     "end_time": "2020-01-07T13:13:46.270942Z",
     "start_time": "2020-01-07T13:13:45.662353Z"
    }
   },
   "outputs": [
    {
     "data": {
      "text/html": [
       "<div>\n",
       "<style scoped>\n",
       "    .dataframe tbody tr th:only-of-type {\n",
       "        vertical-align: middle;\n",
       "    }\n",
       "\n",
       "    .dataframe tbody tr th {\n",
       "        vertical-align: top;\n",
       "    }\n",
       "\n",
       "    .dataframe thead th {\n",
       "        text-align: right;\n",
       "    }\n",
       "</style>\n",
       "<table border=\"1\" class=\"dataframe\">\n",
       "  <thead>\n",
       "    <tr style=\"text-align: right;\">\n",
       "      <th></th>\n",
       "      <th>Body</th>\n",
       "      <th>Credit</th>\n",
       "      <th>Expense</th>\n",
       "      <th>Label</th>\n",
       "      <th>sentences</th>\n",
       "    </tr>\n",
       "  </thead>\n",
       "  <tbody>\n",
       "    <tr>\n",
       "      <td>0</td>\n",
       "      <td>Your Acc XX800006 is debited for INR 90.00 on ...</td>\n",
       "      <td>0.0</td>\n",
       "      <td>90.00</td>\n",
       "      <td>Debit</td>\n",
       "      <td>your acc    is debited for inr 90.00 on 11-oct...</td>\n",
       "    </tr>\n",
       "    <tr>\n",
       "      <td>1</td>\n",
       "      <td>We noticed that you abandoned your cart! We've...</td>\n",
       "      <td>0.0</td>\n",
       "      <td>0.00</td>\n",
       "      <td>NonTrans</td>\n",
       "      <td>we noticed that you abandoned your cart! we've...</td>\n",
       "    </tr>\n",
       "    <tr>\n",
       "      <td>2</td>\n",
       "      <td>Acct XXX423 debited with INR105.00 on 10-Oct-1...</td>\n",
       "      <td>0.0</td>\n",
       "      <td>105.00</td>\n",
       "      <td>Debit</td>\n",
       "      <td>acct   debited with inr105.00 on 10-oct-19 and...</td>\n",
       "    </tr>\n",
       "    <tr>\n",
       "      <td>3</td>\n",
       "      <td>Your Acc XX800006 is debited for INR 577.52 on...</td>\n",
       "      <td>0.0</td>\n",
       "      <td>577.52</td>\n",
       "      <td>Debit</td>\n",
       "      <td>your acc    is debited for inr 577.52 on 10-oc...</td>\n",
       "    </tr>\n",
       "    <tr>\n",
       "      <td>4</td>\n",
       "      <td>Acct XXX423 debited with INR18.00 on 10-Oct-19...</td>\n",
       "      <td>0.0</td>\n",
       "      <td>18.00</td>\n",
       "      <td>Debit</td>\n",
       "      <td>acct   debited with inr18.00 on 10-oct-19 and ...</td>\n",
       "    </tr>\n",
       "    <tr>\n",
       "      <td>5</td>\n",
       "      <td>HSBC: Your credit card xxxxx8307 has been used...</td>\n",
       "      <td>0.0</td>\n",
       "      <td>287.00</td>\n",
       "      <td>Debit</td>\n",
       "      <td>hsbc: your credit card   has been used at godf...</td>\n",
       "    </tr>\n",
       "    <tr>\n",
       "      <td>6</td>\n",
       "      <td>HSBC: Your credit card xxxxx8307 has been used...</td>\n",
       "      <td>0.0</td>\n",
       "      <td>435.00</td>\n",
       "      <td>Debit</td>\n",
       "      <td>hsbc: your credit card   has been used at nutr...</td>\n",
       "    </tr>\n",
       "    <tr>\n",
       "      <td>7</td>\n",
       "      <td>Acct XXX423 debited with INR18.00 on 09-Oct-19...</td>\n",
       "      <td>0.0</td>\n",
       "      <td>18.00</td>\n",
       "      <td>Debit</td>\n",
       "      <td>acct   debited with inr18.00 on 09-oct-19 and ...</td>\n",
       "    </tr>\n",
       "    <tr>\n",
       "      <td>8</td>\n",
       "      <td>Dear Customer  your Credit Card ending xxxxx83...</td>\n",
       "      <td>0.0</td>\n",
       "      <td>337.20</td>\n",
       "      <td>Debit</td>\n",
       "      <td>dear customer  your credit card ending   is de...</td>\n",
       "    </tr>\n",
       "    <tr>\n",
       "      <td>9</td>\n",
       "      <td>HSBC: Your credit card xxxxx8307 has been used...</td>\n",
       "      <td>0.0</td>\n",
       "      <td>6262.95</td>\n",
       "      <td>Debit</td>\n",
       "      <td>hsbc: your credit card   has been used at lic ...</td>\n",
       "    </tr>\n",
       "    <tr>\n",
       "      <td>10</td>\n",
       "      <td>HSBC: Your credit card xxxxx8307 has been used...</td>\n",
       "      <td>0.0</td>\n",
       "      <td>3310.00</td>\n",
       "      <td>Debit</td>\n",
       "      <td>hsbc: your credit card   has been used at chil...</td>\n",
       "    </tr>\n",
       "    <tr>\n",
       "      <td>11</td>\n",
       "      <td>HSBC: Your credit card xxxxx8307 has been used...</td>\n",
       "      <td>0.0</td>\n",
       "      <td>474.98</td>\n",
       "      <td>Debit</td>\n",
       "      <td>hsbc: your credit card   has been used at zaak...</td>\n",
       "    </tr>\n",
       "    <tr>\n",
       "      <td>12</td>\n",
       "      <td>Your Acc XX800006 is credited for INR 100.00 o...</td>\n",
       "      <td>100.0</td>\n",
       "      <td>0.00</td>\n",
       "      <td>Credit</td>\n",
       "      <td>your acc    is credited for inr 100.00 on 08-o...</td>\n",
       "    </tr>\n",
       "    <tr>\n",
       "      <td>13</td>\n",
       "      <td>Your Acc XX800006 is credited for INR 7500.00 ...</td>\n",
       "      <td>7500.0</td>\n",
       "      <td>0.00</td>\n",
       "      <td>Credit</td>\n",
       "      <td>your acc    is credited for inr 7500.00 on 08-...</td>\n",
       "    </tr>\n",
       "    <tr>\n",
       "      <td>14</td>\n",
       "      <td>Acct XXX423 debited with INR51.00 on 07-Oct-19...</td>\n",
       "      <td>0.0</td>\n",
       "      <td>51.00</td>\n",
       "      <td>Debit</td>\n",
       "      <td>acct   debited with inr51.00 on 07-oct-19 and ...</td>\n",
       "    </tr>\n",
       "    <tr>\n",
       "      <td>15</td>\n",
       "      <td>Acct XXX423 debited with INR37.00 on 07-Oct-19...</td>\n",
       "      <td>0.0</td>\n",
       "      <td>37.00</td>\n",
       "      <td>Debit</td>\n",
       "      <td>acct   debited with inr37.00 on 07-oct-19 and ...</td>\n",
       "    </tr>\n",
       "    <tr>\n",
       "      <td>16</td>\n",
       "      <td>Acct XXX423 debited with INR17.00 on 07-Oct-19...</td>\n",
       "      <td>0.0</td>\n",
       "      <td>17.00</td>\n",
       "      <td>Debit</td>\n",
       "      <td>acct   debited with inr17.00 on 07-oct-19 and ...</td>\n",
       "    </tr>\n",
       "    <tr>\n",
       "      <td>17</td>\n",
       "      <td>Acct XXX423 debited with INR28.00 on 07-Oct-19...</td>\n",
       "      <td>0.0</td>\n",
       "      <td>28.00</td>\n",
       "      <td>Debit</td>\n",
       "      <td>acct   debited with inr28.00 on 07-oct-19 and ...</td>\n",
       "    </tr>\n",
       "    <tr>\n",
       "      <td>18</td>\n",
       "      <td>HSBC: Your credit card xxxxx8307 has been used...</td>\n",
       "      <td>0.0</td>\n",
       "      <td>368.02</td>\n",
       "      <td>Debit</td>\n",
       "      <td>hsbc: your credit card   has been used at zaak...</td>\n",
       "    </tr>\n",
       "    <tr>\n",
       "      <td>19</td>\n",
       "      <td>Acct XX423 debited with INR 15,500.00 on 07-Oc...</td>\n",
       "      <td>0.0</td>\n",
       "      <td>15500.00</td>\n",
       "      <td>Debit</td>\n",
       "      <td>acct   debited with inr 15,500.00 on 07-oct-19...</td>\n",
       "    </tr>\n",
       "  </tbody>\n",
       "</table>\n",
       "</div>"
      ],
      "text/plain": [
       "                                                 Body  Credit   Expense  \\\n",
       "0   Your Acc XX800006 is debited for INR 90.00 on ...     0.0     90.00   \n",
       "1   We noticed that you abandoned your cart! We've...     0.0      0.00   \n",
       "2   Acct XXX423 debited with INR105.00 on 10-Oct-1...     0.0    105.00   \n",
       "3   Your Acc XX800006 is debited for INR 577.52 on...     0.0    577.52   \n",
       "4   Acct XXX423 debited with INR18.00 on 10-Oct-19...     0.0     18.00   \n",
       "5   HSBC: Your credit card xxxxx8307 has been used...     0.0    287.00   \n",
       "6   HSBC: Your credit card xxxxx8307 has been used...     0.0    435.00   \n",
       "7   Acct XXX423 debited with INR18.00 on 09-Oct-19...     0.0     18.00   \n",
       "8   Dear Customer  your Credit Card ending xxxxx83...     0.0    337.20   \n",
       "9   HSBC: Your credit card xxxxx8307 has been used...     0.0   6262.95   \n",
       "10  HSBC: Your credit card xxxxx8307 has been used...     0.0   3310.00   \n",
       "11  HSBC: Your credit card xxxxx8307 has been used...     0.0    474.98   \n",
       "12  Your Acc XX800006 is credited for INR 100.00 o...   100.0      0.00   \n",
       "13  Your Acc XX800006 is credited for INR 7500.00 ...  7500.0      0.00   \n",
       "14  Acct XXX423 debited with INR51.00 on 07-Oct-19...     0.0     51.00   \n",
       "15  Acct XXX423 debited with INR37.00 on 07-Oct-19...     0.0     37.00   \n",
       "16  Acct XXX423 debited with INR17.00 on 07-Oct-19...     0.0     17.00   \n",
       "17  Acct XXX423 debited with INR28.00 on 07-Oct-19...     0.0     28.00   \n",
       "18  HSBC: Your credit card xxxxx8307 has been used...     0.0    368.02   \n",
       "19  Acct XX423 debited with INR 15,500.00 on 07-Oc...     0.0  15500.00   \n",
       "\n",
       "       Label                                          sentences  \n",
       "0      Debit  your acc    is debited for inr 90.00 on 11-oct...  \n",
       "1   NonTrans  we noticed that you abandoned your cart! we've...  \n",
       "2      Debit  acct   debited with inr105.00 on 10-oct-19 and...  \n",
       "3      Debit  your acc    is debited for inr 577.52 on 10-oc...  \n",
       "4      Debit  acct   debited with inr18.00 on 10-oct-19 and ...  \n",
       "5      Debit  hsbc: your credit card   has been used at godf...  \n",
       "6      Debit  hsbc: your credit card   has been used at nutr...  \n",
       "7      Debit  acct   debited with inr18.00 on 09-oct-19 and ...  \n",
       "8      Debit  dear customer  your credit card ending   is de...  \n",
       "9      Debit  hsbc: your credit card   has been used at lic ...  \n",
       "10     Debit  hsbc: your credit card   has been used at chil...  \n",
       "11     Debit  hsbc: your credit card   has been used at zaak...  \n",
       "12    Credit  your acc    is credited for inr 100.00 on 08-o...  \n",
       "13    Credit  your acc    is credited for inr 7500.00 on 08-...  \n",
       "14     Debit  acct   debited with inr51.00 on 07-oct-19 and ...  \n",
       "15     Debit  acct   debited with inr37.00 on 07-oct-19 and ...  \n",
       "16     Debit  acct   debited with inr17.00 on 07-oct-19 and ...  \n",
       "17     Debit  acct   debited with inr28.00 on 07-oct-19 and ...  \n",
       "18     Debit  hsbc: your credit card   has been used at zaak...  \n",
       "19     Debit  acct   debited with inr 15,500.00 on 07-oct-19...  "
      ]
     },
     "execution_count": 10,
     "metadata": {},
     "output_type": "execute_result"
    }
   ],
   "source": [
    "df['sentences'] = df['Body'].apply(lambda x:clean_text(x))\n",
    "df.head(20)"
   ]
  },
  {
   "cell_type": "markdown",
   "metadata": {},
   "source": [
    "### 3. Exploratory Data Analysis :\n",
    "#### taking a deeper look at the data, analysing the word distribution"
   ]
  },
  {
   "cell_type": "code",
   "execution_count": 11,
   "metadata": {
    "ExecuteTime": {
     "end_time": "2020-01-07T13:13:46.293167Z",
     "start_time": "2020-01-07T13:13:46.273697Z"
    }
   },
   "outputs": [
    {
     "data": {
      "text/html": [
       "<div>\n",
       "<style scoped>\n",
       "    .dataframe tbody tr th:only-of-type {\n",
       "        vertical-align: middle;\n",
       "    }\n",
       "\n",
       "    .dataframe tbody tr th {\n",
       "        vertical-align: top;\n",
       "    }\n",
       "\n",
       "    .dataframe thead th {\n",
       "        text-align: right;\n",
       "    }\n",
       "</style>\n",
       "<table border=\"1\" class=\"dataframe\">\n",
       "  <thead>\n",
       "    <tr style=\"text-align: right;\">\n",
       "      <th></th>\n",
       "      <th>Body</th>\n",
       "      <th>Credit</th>\n",
       "      <th>Expense</th>\n",
       "      <th>Label</th>\n",
       "      <th>sentences</th>\n",
       "      <th>sent_len</th>\n",
       "    </tr>\n",
       "  </thead>\n",
       "  <tbody>\n",
       "    <tr>\n",
       "      <td>0</td>\n",
       "      <td>Your Acc XX800006 is debited for INR 90.00 on ...</td>\n",
       "      <td>0.0</td>\n",
       "      <td>90.00</td>\n",
       "      <td>Debit</td>\n",
       "      <td>your acc    is debited for inr 90.00 on 11-oct...</td>\n",
       "      <td>169</td>\n",
       "    </tr>\n",
       "    <tr>\n",
       "      <td>1</td>\n",
       "      <td>We noticed that you abandoned your cart! We've...</td>\n",
       "      <td>0.0</td>\n",
       "      <td>0.00</td>\n",
       "      <td>NonTrans</td>\n",
       "      <td>we noticed that you abandoned your cart! we've...</td>\n",
       "      <td>290</td>\n",
       "    </tr>\n",
       "    <tr>\n",
       "      <td>2</td>\n",
       "      <td>Acct XXX423 debited with INR105.00 on 10-Oct-1...</td>\n",
       "      <td>0.0</td>\n",
       "      <td>105.00</td>\n",
       "      <td>Debit</td>\n",
       "      <td>acct   debited with inr105.00 on 10-oct-19 and...</td>\n",
       "      <td>102</td>\n",
       "    </tr>\n",
       "    <tr>\n",
       "      <td>3</td>\n",
       "      <td>Your Acc XX800006 is debited for INR 577.52 on...</td>\n",
       "      <td>0.0</td>\n",
       "      <td>577.52</td>\n",
       "      <td>Debit</td>\n",
       "      <td>your acc    is debited for inr 577.52 on 10-oc...</td>\n",
       "      <td>170</td>\n",
       "    </tr>\n",
       "    <tr>\n",
       "      <td>4</td>\n",
       "      <td>Acct XXX423 debited with INR18.00 on 10-Oct-19...</td>\n",
       "      <td>0.0</td>\n",
       "      <td>18.00</td>\n",
       "      <td>Debit</td>\n",
       "      <td>acct   debited with inr18.00 on 10-oct-19 and ...</td>\n",
       "      <td>101</td>\n",
       "    </tr>\n",
       "  </tbody>\n",
       "</table>\n",
       "</div>"
      ],
      "text/plain": [
       "                                                Body  Credit  Expense  \\\n",
       "0  Your Acc XX800006 is debited for INR 90.00 on ...     0.0    90.00   \n",
       "1  We noticed that you abandoned your cart! We've...     0.0     0.00   \n",
       "2  Acct XXX423 debited with INR105.00 on 10-Oct-1...     0.0   105.00   \n",
       "3  Your Acc XX800006 is debited for INR 577.52 on...     0.0   577.52   \n",
       "4  Acct XXX423 debited with INR18.00 on 10-Oct-19...     0.0    18.00   \n",
       "\n",
       "      Label                                          sentences  sent_len  \n",
       "0     Debit  your acc    is debited for inr 90.00 on 11-oct...       169  \n",
       "1  NonTrans  we noticed that you abandoned your cart! we've...       290  \n",
       "2     Debit  acct   debited with inr105.00 on 10-oct-19 and...       102  \n",
       "3     Debit  your acc    is debited for inr 577.52 on 10-oc...       170  \n",
       "4     Debit  acct   debited with inr18.00 on 10-oct-19 and ...       101  "
      ]
     },
     "execution_count": 11,
     "metadata": {},
     "output_type": "execute_result"
    }
   ],
   "source": [
    "df['sent_len'] = df['sentences'].apply(lambda x:len(x))\n",
    "df.head()"
   ]
  },
  {
   "cell_type": "code",
   "execution_count": 12,
   "metadata": {
    "ExecuteTime": {
     "end_time": "2020-01-07T13:13:46.798311Z",
     "start_time": "2020-01-07T13:13:46.296737Z"
    }
   },
   "outputs": [
    {
     "data": {
      "text/plain": [
       "Text(0,0.5,'num_sents')"
      ]
     },
     "execution_count": 12,
     "metadata": {},
     "output_type": "execute_result"
    },
    {
     "data": {
      "image/png": "[encoded data removed]",
      "text/plain": [
       "<Figure size 432x288 with 1 Axes>"
      ]
     },
     "metadata": {
      "needs_background": "light"
     },
     "output_type": "display_data"
    }
   ],
   "source": [
    "# word count distribution in the data\n",
    "df['sent_len'].hist(bins=50,)\n",
    "plt.title('Word distribution')\n",
    "plt.xlabel(\"sentence_len\", fontsize=12)\n",
    "plt.ylabel(\"num_sents\", fontsize=12)"
   ]
  },
  {
   "cell_type": "code",
   "execution_count": 13,
   "metadata": {
    "ExecuteTime": {
     "end_time": "2020-01-07T13:13:46.814911Z",
     "start_time": "2020-01-07T13:13:46.801779Z"
    }
   },
   "outputs": [
    {
     "name": "stdout",
     "output_type": "stream",
     "text": [
      "(3528, 6)\n",
      "(3515, 6)\n"
     ]
    }
   ],
   "source": [
    "# dropping the sentences with length more than 400, considering their count is very low\n",
    "print(df.shape)\n",
    "df = df[df['sent_len']<=400]\n",
    "print(df.shape)"
   ]
  },
  {
   "cell_type": "code",
   "execution_count": 14,
   "metadata": {
    "ExecuteTime": {
     "end_time": "2020-01-07T13:13:47.236939Z",
     "start_time": "2020-01-07T13:13:46.818830Z"
    }
   },
   "outputs": [
    {
     "data": {
      "text/plain": [
       "<seaborn.axisgrid.FacetGrid at 0x1174641d0>"
      ]
     },
     "execution_count": 14,
     "metadata": {},
     "output_type": "execute_result"
    },
    {
     "data": {
      "image/png": "[encoded data removed]",
      "text/plain": [
       "<Figure size 360x360 with 1 Axes>"
      ]
     },
     "metadata": {
      "needs_background": "light"
     },
     "output_type": "display_data"
    }
   ],
   "source": [
    "sns.catplot(x=\"Label\", y=\"sent_len\", data=df)"
   ]
  },
  {
   "cell_type": "code",
   "execution_count": 15,
   "metadata": {
    "ExecuteTime": {
     "end_time": "2020-01-07T13:13:47.286927Z",
     "start_time": "2020-01-07T13:13:47.240447Z"
    }
   },
   "outputs": [
    {
     "data": {
      "text/html": [
       "<div>\n",
       "<style scoped>\n",
       "    .dataframe tbody tr th:only-of-type {\n",
       "        vertical-align: middle;\n",
       "    }\n",
       "\n",
       "    .dataframe tbody tr th {\n",
       "        vertical-align: top;\n",
       "    }\n",
       "\n",
       "    .dataframe thead th {\n",
       "        text-align: right;\n",
       "    }\n",
       "</style>\n",
       "<table border=\"1\" class=\"dataframe\">\n",
       "  <thead>\n",
       "    <tr style=\"text-align: right;\">\n",
       "      <th></th>\n",
       "      <th>Credit</th>\n",
       "      <th>Expense</th>\n",
       "      <th>sent_len</th>\n",
       "    </tr>\n",
       "  </thead>\n",
       "  <tbody>\n",
       "    <tr>\n",
       "      <td>count</td>\n",
       "      <td>3.515000e+03</td>\n",
       "      <td>3512.000000</td>\n",
       "      <td>3515.000000</td>\n",
       "    </tr>\n",
       "    <tr>\n",
       "      <td>mean</td>\n",
       "      <td>5.235445e+03</td>\n",
       "      <td>7913.440507</td>\n",
       "      <td>161.019630</td>\n",
       "    </tr>\n",
       "    <tr>\n",
       "      <td>std</td>\n",
       "      <td>3.401836e+04</td>\n",
       "      <td>24967.079963</td>\n",
       "      <td>84.310562</td>\n",
       "    </tr>\n",
       "    <tr>\n",
       "      <td>min</td>\n",
       "      <td>0.000000e+00</td>\n",
       "      <td>0.000000</td>\n",
       "      <td>20.000000</td>\n",
       "    </tr>\n",
       "    <tr>\n",
       "      <td>25%</td>\n",
       "      <td>0.000000e+00</td>\n",
       "      <td>0.000000</td>\n",
       "      <td>106.000000</td>\n",
       "    </tr>\n",
       "    <tr>\n",
       "      <td>50%</td>\n",
       "      <td>0.000000e+00</td>\n",
       "      <td>250.000000</td>\n",
       "      <td>132.000000</td>\n",
       "    </tr>\n",
       "    <tr>\n",
       "      <td>75%</td>\n",
       "      <td>0.000000e+00</td>\n",
       "      <td>2492.500000</td>\n",
       "      <td>185.000000</td>\n",
       "    </tr>\n",
       "    <tr>\n",
       "      <td>max</td>\n",
       "      <td>1.496460e+06</td>\n",
       "      <td>600000.000000</td>\n",
       "      <td>398.000000</td>\n",
       "    </tr>\n",
       "  </tbody>\n",
       "</table>\n",
       "</div>"
      ],
      "text/plain": [
       "             Credit        Expense     sent_len\n",
       "count  3.515000e+03    3512.000000  3515.000000\n",
       "mean   5.235445e+03    7913.440507   161.019630\n",
       "std    3.401836e+04   24967.079963    84.310562\n",
       "min    0.000000e+00       0.000000    20.000000\n",
       "25%    0.000000e+00       0.000000   106.000000\n",
       "50%    0.000000e+00     250.000000   132.000000\n",
       "75%    0.000000e+00    2492.500000   185.000000\n",
       "max    1.496460e+06  600000.000000   398.000000"
      ]
     },
     "execution_count": 15,
     "metadata": {},
     "output_type": "execute_result"
    }
   ],
   "source": [
    "df.describe()"
   ]
  },
  {
   "cell_type": "markdown",
   "metadata": {
    "ExecuteTime": {
     "end_time": "2019-11-02T11:10:31.700327Z",
     "start_time": "2019-11-02T11:10:31.694009Z"
    }
   },
   "source": [
    "###  4. Modelling & Evaluation\n",
    "#### training the model and then calculating the accuracy values"
   ]
  },
  {
   "cell_type": "code",
   "execution_count": 16,
   "metadata": {
    "ExecuteTime": {
     "end_time": "2020-01-07T13:13:47.299942Z",
     "start_time": "2020-01-07T13:13:47.291587Z"
    }
   },
   "outputs": [],
   "source": [
    "X = df['sentences']\n",
    "y = df['Label']"
   ]
  },
  {
   "cell_type": "code",
   "execution_count": 17,
   "metadata": {
    "ExecuteTime": {
     "end_time": "2020-01-07T13:13:47.318417Z",
     "start_time": "2020-01-07T13:13:47.306474Z"
    }
   },
   "outputs": [
    {
     "data": {
      "text/plain": [
       "True"
      ]
     },
     "execution_count": 17,
     "metadata": {},
     "output_type": "execute_result"
    }
   ],
   "source": [
    "# to confirm there is no index mismatch in the train and label sets\n",
    "(X.index == y.index).any()"
   ]
  },
  {
   "cell_type": "code",
   "execution_count": 18,
   "metadata": {
    "ExecuteTime": {
     "end_time": "2020-01-07T13:13:47.332397Z",
     "start_time": "2020-01-07T13:13:47.322183Z"
    }
   },
   "outputs": [],
   "source": [
    "X_train, X_test, y_train, y_test = train_test_split(X, y, test_size=0.20, random_state=1729)"
   ]
  },
  {
   "cell_type": "code",
   "execution_count": 19,
   "metadata": {
    "ExecuteTime": {
     "end_time": "2020-01-07T13:13:47.343025Z",
     "start_time": "2020-01-07T13:13:47.336039Z"
    }
   },
   "outputs": [
    {
     "data": {
      "text/plain": [
       "((2812,), (703,), (2812,), (703,))"
      ]
     },
     "execution_count": 19,
     "metadata": {},
     "output_type": "execute_result"
    }
   ],
   "source": [
    "X_train.shape, X_test.shape, y_train.shape, y_test.shape"
   ]
  },
  {
   "cell_type": "code",
   "execution_count": 20,
   "metadata": {
    "ExecuteTime": {
     "end_time": "2020-01-07T13:13:47.354752Z",
     "start_time": "2020-01-07T13:13:47.346622Z"
    }
   },
   "outputs": [
    {
     "data": {
      "text/plain": [
       "(True, True)"
      ]
     },
     "execution_count": 20,
     "metadata": {},
     "output_type": "execute_result"
    }
   ],
   "source": [
    "(X_train.index == y_train.index).any(),(X_test.index == y_test.index).any()"
   ]
  },
  {
   "cell_type": "markdown",
   "metadata": {},
   "source": [
    "### 4.1 Using word2vec to get word embeddings"
   ]
  },
  {
   "cell_type": "code",
   "execution_count": 21,
   "metadata": {
    "ExecuteTime": {
     "end_time": "2020-01-07T13:13:47.474394Z",
     "start_time": "2020-01-07T13:13:47.469174Z"
    }
   },
   "outputs": [
    {
     "name": "stdout",
     "output_type": "stream",
     "text": [
      "/Users/akshitasood/Downloads/GoogleNews-vectors-negative300.bin\n"
     ]
    }
   ],
   "source": [
    "model_path = '/Users/akshitasood/Downloads/GoogleNews-vectors-negative300.bin'\n",
    "print(model_path)"
   ]
  },
  {
   "cell_type": "code",
   "execution_count": 22,
   "metadata": {
    "ExecuteTime": {
     "end_time": "2020-01-07T13:13:47.509911Z",
     "start_time": "2020-01-07T13:13:47.479902Z"
    }
   },
   "outputs": [],
   "source": [
    "vocab_thresh = 30000\n",
    "UNKNOWN_WORD = '--unk--'\n",
    "PAD_WORD = '--pad--'\n",
    "PAD_NUM = 0\n",
    "UNKNOWN_NUM = 1\n",
    "class w2v_featuriser:\n",
    "    def __init__(self,):\n",
    "        self.model = gensim.models.KeyedVectors.load_word2vec_format(model_path, binary=True)\n",
    "\n",
    "    def get_vocab_from_texts(self,text_2dlist):\n",
    "        print(\"--> Getting vocab from text\")\n",
    "        text_list = list(itertools.chain.from_iterable(text_2dlist))\n",
    "        set_vocab = set(text_list)\n",
    "        list_vocab = list(set_vocab)\n",
    "        list_vocab.insert(0,UNKNOWN_WORD) # vocab word at index 1 will be unknown  word\n",
    "        list_vocab.insert(0,PAD_WORD) # vocab word at index 0 will be pad word\n",
    "        return list_vocab\n",
    "\n",
    "    def create_embedding_matrix(self,textarrays):\n",
    "        self.subset_w2id = dict()\n",
    "        print(\"Calculated vocab size ----> \",len(self.subset_vocab))\n",
    "        loaded_w2v_weights = self.model.wv.syn0\n",
    "        loaded_w2v_dim = loaded_w2v_weights.shape[1]\n",
    "        self.weights = np.zeros((len(self.subset_vocab),loaded_w2v_dim), dtype='float32')\n",
    "        #random_vector_padding = np.random.random_sample(size = loaded_w2v_dim)\n",
    "        random_vector_unknown = np.random.random_sample(size = loaded_w2v_dim)\n",
    "        #self.weights[0] = random_vector_padding\n",
    "        self.weights[1] = random_vector_unknown\n",
    "        self.subset_w2id[PAD_WORD] = 0\n",
    "        self.subset_w2id[UNKNOWN_WORD] = 1\n",
    "        i = 2\n",
    "        for token in self.subset_vocab:\n",
    "            if token==UNKNOWN_WORD or token==PAD_WORD:\n",
    "                continue\n",
    "            elif token in self.model.wv.vocab:\n",
    "                self.weights[i] = self.model.wv[token]\n",
    "            else: # might have to set fixed random vector for Unknown ----\n",
    "                random_vector = np.random.random_sample(size = loaded_w2v_dim)\n",
    "                self.weights[i] = random_vector\n",
    "            self.subset_w2id[token] = i\n",
    "            i+=1\n",
    "\n",
    "    @staticmethod\n",
    "    def get_max_doc_len(ser_tokens):\n",
    "        maxl = ser_tokens.apply(lambda x: len(x)).max()\n",
    "        return maxl\n",
    "    \n",
    "    def numeric_reprn_of_text(self,padded_sent_ser):\n",
    "        print(\"Converting text into numeric form ------->\")\n",
    "        sent_ser = padded_sent_ser\n",
    "        sent_ser = sent_ser.map(lambda x : [self.subset_w2id[y] if y in self.subset_vocab else UNKNOWN_NUM for y in x])\n",
    "        return sent_ser\n",
    "\n",
    "    def pad_numbers(self, num_list):\n",
    "        pad_size = self.maxl - len(num_list)\n",
    "        ret_list = list(num_list)\n",
    "        if pad_size > 0:\n",
    "            for i in range(pad_size):\n",
    "                ret_list.append(PAD_NUM)\n",
    "        else:\n",
    "            ret_list = list(num_list)[:self.maxl]\n",
    "        return tuple(ret_list)\n",
    "\n",
    "    def vector_reprn_of_num_repr(self, numeric_reprn):\n",
    "        print(\"Converting the text to vector form ---------->\")\n",
    "        print(numeric_reprn.head())\n",
    "        vec_ser = numeric_reprn.map(lambda x: np.array([self.weights[y] for y in x]))\n",
    "        return vec_ser\n",
    "    \n",
    "    def train(self,train_ser_doc):\n",
    "        '''\n",
    "        will be called only once for the train set to create vocab on train set\n",
    "        '''\n",
    "        tokenised_ser = train_ser_doc.apply(lambda x:word_tokenize(x))\n",
    "        self.subset_vocab = self.get_vocab_from_texts(tokenised_ser.values.tolist()) \n",
    "        print(len(self.subset_vocab))\n",
    "        self.subset_vocab = self.subset_vocab[:vocab_thresh+1]\n",
    "        assert isinstance(tokenised_ser, pd.Series)\n",
    "        subset_w2id = self.create_embedding_matrix(tokenised_ser)\n",
    "        maxl = w2v_featuriser.get_max_doc_len(tokenised_ser)\n",
    "        self.maxl = w2v_featuriser.get_max_doc_len(tokenised_ser)\n",
    "        del self.model\n",
    "        gc.collect()\n",
    "        \n",
    "    def apply(self,test_doc):\n",
    "        '''\n",
    "        will be called everytime when we need embeddings on our test sets(when the vocab has already been fixed)\n",
    "        '''\n",
    "        assert isinstance(test_doc, pd.Series)\n",
    "        tokenised_ser = test_doc.apply(lambda x:word_tokenize(x))\n",
    "        num_ser = self.numeric_reprn_of_text(tokenised_ser) # returns a 2d array\n",
    "        padded_num_ser = num_ser.apply(self.pad_numbers)\n",
    "        vec_ser = self.vector_reprn_of_num_repr(padded_num_ser) # returns a 3d array\n",
    "        return vec_ser #will return a 3D-array of outputs"
   ]
  },
  {
   "cell_type": "code",
   "execution_count": 23,
   "metadata": {
    "ExecuteTime": {
     "end_time": "2020-01-07T13:16:23.420650Z",
     "start_time": "2020-01-07T13:13:47.515776Z"
    }
   },
   "outputs": [],
   "source": [
    "w2v_obj = w2v_featuriser()"
   ]
  },
  {
   "cell_type": "code",
   "execution_count": 24,
   "metadata": {
    "ExecuteTime": {
     "end_time": "2020-01-07T13:16:29.125475Z",
     "start_time": "2020-01-07T13:16:23.429554Z"
    }
   },
   "outputs": [
    {
     "name": "stdout",
     "output_type": "stream",
     "text": [
      "--> Getting vocab from text\n",
      "6534\n",
      "Calculated vocab size ---->  6534\n"
     ]
    },
    {
     "name": "stderr",
     "output_type": "stream",
     "text": [
      "/Users/akshitasood/Desktop/py3/lib/python3.6/site-packages/ipykernel_launcher.py:22: DeprecationWarning: Call to deprecated `wv` (Attribute will be removed in 4.0.0, use self instead).\n",
      "/Users/akshitasood/Desktop/py3/lib/python3.6/site-packages/ipykernel_launcher.py:22: DeprecationWarning: Call to deprecated `syn0` (Attribute will be removed in 4.0.0, use self.vectors instead).\n",
      "/Users/akshitasood/Desktop/py3/lib/python3.6/site-packages/ipykernel_launcher.py:35: DeprecationWarning: Call to deprecated `wv` (Attribute will be removed in 4.0.0, use self instead).\n",
      "/Users/akshitasood/Desktop/py3/lib/python3.6/site-packages/ipykernel_launcher.py:36: DeprecationWarning: Call to deprecated `wv` (Attribute will be removed in 4.0.0, use self instead).\n"
     ]
    }
   ],
   "source": [
    "w2v_obj.train(X_train)"
   ]
  },
  {
   "cell_type": "code",
   "execution_count": 25,
   "metadata": {
    "ExecuteTime": {
     "end_time": "2020-01-07T13:16:38.585793Z",
     "start_time": "2020-01-07T13:16:29.133021Z"
    }
   },
   "outputs": [
    {
     "name": "stdout",
     "output_type": "stream",
     "text": [
      "Converting text into numeric form ------->\n",
      "Converting the text to vector form ---------->\n",
      "1276    (4215, 1709, 1574, 3365, 279, 5255, 4694, 6041...\n",
      "3129    (279, 5525, 6041, 2764, 746, 5348, 2067, 3212,...\n",
      "1177    (279, 5255, 4657, 2257, 1947, 4285, 4406, 5348...\n",
      "1058    (1574, 3365, 279, 1960, 6041, 2764, 2778, 5348...\n",
      "3503    (279, 5255, 5870, 746, 1753, 5223, 3212, 5868,...\n",
      "Name: sentences, dtype: object\n"
     ]
    },
    {
     "data": {
      "text/plain": [
       "1276    [[-0.24023438, 0.1171875, -0.091308594, 0.2558...\n",
       "3129    [[0.19433594, 0.099609375, 0.08251953, 0.45507...\n",
       "1177    [[0.19433594, 0.099609375, 0.08251953, 0.45507...\n",
       "1058    [[0.076660156, 0.19921875, 0.20703125, 0.30468...\n",
       "3503    [[0.19433594, 0.099609375, 0.08251953, 0.45507...\n",
       "                              ...                        \n",
       "3467    [[0.19433594, 0.099609375, 0.08251953, 0.45507...\n",
       "1575    [[-0.24023438, 0.1171875, -0.091308594, 0.2558...\n",
       "1269    [[0.19433594, 0.099609375, 0.08251953, 0.45507...\n",
       "3187    [[0.482855, 0.92195684, 0.5627836, 0.83084154,...\n",
       "1680    [[0.19433594, 0.099609375, 0.08251953, 0.45507...\n",
       "Name: sentences, Length: 2812, dtype: object"
      ]
     },
     "execution_count": 25,
     "metadata": {},
     "output_type": "execute_result"
    }
   ],
   "source": [
    "X_train_feats = w2v_obj.apply(X_train)\n",
    "X_train_feats"
   ]
  },
  {
   "cell_type": "code",
   "execution_count": 26,
   "metadata": {
    "ExecuteTime": {
     "end_time": "2020-01-07T13:16:41.659057Z",
     "start_time": "2020-01-07T13:16:38.591978Z"
    }
   },
   "outputs": [
    {
     "name": "stdout",
     "output_type": "stream",
     "text": [
      "Converting text into numeric form ------->\n",
      "Converting the text to vector form ---------->\n",
      "2656    (4906, 2877, 2715, 1501, 1, 468, 1965, 4285, 5...\n",
      "1340    (4215, 1709, 279, 420, 1947, 6041, 2764, 1814,...\n",
      "913     (1574, 3365, 279, 1960, 6041, 2764, 746, 5348,...\n",
      "219     (4215, 1709, 279, 420, 1947, 6041, 2764, 1814,...\n",
      "1193    (4215, 1709, 1574, 3365, 279, 5255, 4694, 6041...\n",
      "Name: sentences, dtype: object\n"
     ]
    },
    {
     "data": {
      "text/plain": [
       "2656    [[0.06347656, -0.067871094, 0.07714844, -0.219...\n",
       "1340    [[-0.24023438, 0.1171875, -0.091308594, 0.2558...\n",
       "913     [[0.076660156, 0.19921875, 0.20703125, 0.30468...\n",
       "219     [[-0.24023438, 0.1171875, -0.091308594, 0.2558...\n",
       "1193    [[-0.24023438, 0.1171875, -0.091308594, 0.2558...\n",
       "                              ...                        \n",
       "3033    [[0.7197196, 0.09219799, 0.7166811, 0.6622961,...\n",
       "2210    [[-0.033447266, -0.21972656, 0.01940918, 0.008...\n",
       "410     [[-0.08300781, 0.001953125, 0.02319336, 0.1933...\n",
       "738     [[0.19433594, 0.099609375, 0.08251953, 0.45507...\n",
       "3027    [[0.025634766, -0.03930664, -0.056640625, -0.0...\n",
       "Name: sentences, Length: 703, dtype: object"
      ]
     },
     "execution_count": 26,
     "metadata": {},
     "output_type": "execute_result"
    }
   ],
   "source": [
    "X_test_feats = w2v_obj.apply(X_test)\n",
    "X_test_feats"
   ]
  },
  {
   "cell_type": "code",
   "execution_count": 27,
   "metadata": {
    "ExecuteTime": {
     "end_time": "2020-01-07T13:16:41.686204Z",
     "start_time": "2020-01-07T13:16:41.662519Z"
    }
   },
   "outputs": [],
   "source": [
    "y_train_dumm = pd.get_dummies(y_train)\n",
    "y_test_dumm = pd.get_dummies(y_test)"
   ]
  },
  {
   "cell_type": "code",
   "execution_count": 28,
   "metadata": {
    "ExecuteTime": {
     "end_time": "2020-01-07T13:16:41.711080Z",
     "start_time": "2020-01-07T13:16:41.689207Z"
    }
   },
   "outputs": [
    {
     "data": {
      "text/html": [
       "<div>\n",
       "<style scoped>\n",
       "    .dataframe tbody tr th:only-of-type {\n",
       "        vertical-align: middle;\n",
       "    }\n",
       "\n",
       "    .dataframe tbody tr th {\n",
       "        vertical-align: top;\n",
       "    }\n",
       "\n",
       "    .dataframe thead th {\n",
       "        text-align: right;\n",
       "    }\n",
       "</style>\n",
       "<table border=\"1\" class=\"dataframe\">\n",
       "  <thead>\n",
       "    <tr style=\"text-align: right;\">\n",
       "      <th></th>\n",
       "      <th>Credit</th>\n",
       "      <th>Debit</th>\n",
       "      <th>NonTrans</th>\n",
       "    </tr>\n",
       "  </thead>\n",
       "  <tbody>\n",
       "    <tr>\n",
       "      <td>2656</td>\n",
       "      <td>0</td>\n",
       "      <td>0</td>\n",
       "      <td>1</td>\n",
       "    </tr>\n",
       "    <tr>\n",
       "      <td>1340</td>\n",
       "      <td>0</td>\n",
       "      <td>1</td>\n",
       "      <td>0</td>\n",
       "    </tr>\n",
       "    <tr>\n",
       "      <td>913</td>\n",
       "      <td>0</td>\n",
       "      <td>1</td>\n",
       "      <td>0</td>\n",
       "    </tr>\n",
       "    <tr>\n",
       "      <td>219</td>\n",
       "      <td>0</td>\n",
       "      <td>1</td>\n",
       "      <td>0</td>\n",
       "    </tr>\n",
       "    <tr>\n",
       "      <td>1193</td>\n",
       "      <td>0</td>\n",
       "      <td>1</td>\n",
       "      <td>0</td>\n",
       "    </tr>\n",
       "    <tr>\n",
       "      <td>...</td>\n",
       "      <td>...</td>\n",
       "      <td>...</td>\n",
       "      <td>...</td>\n",
       "    </tr>\n",
       "    <tr>\n",
       "      <td>3033</td>\n",
       "      <td>0</td>\n",
       "      <td>1</td>\n",
       "      <td>0</td>\n",
       "    </tr>\n",
       "    <tr>\n",
       "      <td>2210</td>\n",
       "      <td>0</td>\n",
       "      <td>0</td>\n",
       "      <td>1</td>\n",
       "    </tr>\n",
       "    <tr>\n",
       "      <td>410</td>\n",
       "      <td>0</td>\n",
       "      <td>1</td>\n",
       "      <td>0</td>\n",
       "    </tr>\n",
       "    <tr>\n",
       "      <td>738</td>\n",
       "      <td>1</td>\n",
       "      <td>0</td>\n",
       "      <td>0</td>\n",
       "    </tr>\n",
       "    <tr>\n",
       "      <td>3027</td>\n",
       "      <td>1</td>\n",
       "      <td>0</td>\n",
       "      <td>0</td>\n",
       "    </tr>\n",
       "  </tbody>\n",
       "</table>\n",
       "<p>703 rows × 3 columns</p>\n",
       "</div>"
      ],
      "text/plain": [
       "      Credit  Debit  NonTrans\n",
       "2656       0      0         1\n",
       "1340       0      1         0\n",
       "913        0      1         0\n",
       "219        0      1         0\n",
       "1193       0      1         0\n",
       "...      ...    ...       ...\n",
       "3033       0      1         0\n",
       "2210       0      0         1\n",
       "410        0      1         0\n",
       "738        1      0         0\n",
       "3027       1      0         0\n",
       "\n",
       "[703 rows x 3 columns]"
      ]
     },
     "execution_count": 28,
     "metadata": {},
     "output_type": "execute_result"
    }
   ],
   "source": [
    "y_test_dumm"
   ]
  },
  {
   "cell_type": "code",
   "execution_count": 29,
   "metadata": {
    "ExecuteTime": {
     "end_time": "2020-01-07T13:16:41.730106Z",
     "start_time": "2020-01-07T13:16:41.714586Z"
    },
    "scrolled": true
   },
   "outputs": [
    {
     "data": {
      "text/html": [
       "<div>\n",
       "<style scoped>\n",
       "    .dataframe tbody tr th:only-of-type {\n",
       "        vertical-align: middle;\n",
       "    }\n",
       "\n",
       "    .dataframe tbody tr th {\n",
       "        vertical-align: top;\n",
       "    }\n",
       "\n",
       "    .dataframe thead th {\n",
       "        text-align: right;\n",
       "    }\n",
       "</style>\n",
       "<table border=\"1\" class=\"dataframe\">\n",
       "  <thead>\n",
       "    <tr style=\"text-align: right;\">\n",
       "      <th></th>\n",
       "      <th>Credit</th>\n",
       "      <th>Debit</th>\n",
       "      <th>NonTrans</th>\n",
       "    </tr>\n",
       "  </thead>\n",
       "  <tbody>\n",
       "    <tr>\n",
       "      <td>1276</td>\n",
       "      <td>0</td>\n",
       "      <td>1</td>\n",
       "      <td>0</td>\n",
       "    </tr>\n",
       "    <tr>\n",
       "      <td>3129</td>\n",
       "      <td>0</td>\n",
       "      <td>1</td>\n",
       "      <td>0</td>\n",
       "    </tr>\n",
       "    <tr>\n",
       "      <td>1177</td>\n",
       "      <td>0</td>\n",
       "      <td>1</td>\n",
       "      <td>0</td>\n",
       "    </tr>\n",
       "    <tr>\n",
       "      <td>1058</td>\n",
       "      <td>1</td>\n",
       "      <td>0</td>\n",
       "      <td>0</td>\n",
       "    </tr>\n",
       "    <tr>\n",
       "      <td>3503</td>\n",
       "      <td>0</td>\n",
       "      <td>1</td>\n",
       "      <td>0</td>\n",
       "    </tr>\n",
       "    <tr>\n",
       "      <td>...</td>\n",
       "      <td>...</td>\n",
       "      <td>...</td>\n",
       "      <td>...</td>\n",
       "    </tr>\n",
       "    <tr>\n",
       "      <td>3467</td>\n",
       "      <td>0</td>\n",
       "      <td>1</td>\n",
       "      <td>0</td>\n",
       "    </tr>\n",
       "    <tr>\n",
       "      <td>1575</td>\n",
       "      <td>0</td>\n",
       "      <td>1</td>\n",
       "      <td>0</td>\n",
       "    </tr>\n",
       "    <tr>\n",
       "      <td>1269</td>\n",
       "      <td>0</td>\n",
       "      <td>1</td>\n",
       "      <td>0</td>\n",
       "    </tr>\n",
       "    <tr>\n",
       "      <td>3187</td>\n",
       "      <td>0</td>\n",
       "      <td>1</td>\n",
       "      <td>0</td>\n",
       "    </tr>\n",
       "    <tr>\n",
       "      <td>1680</td>\n",
       "      <td>1</td>\n",
       "      <td>0</td>\n",
       "      <td>0</td>\n",
       "    </tr>\n",
       "  </tbody>\n",
       "</table>\n",
       "<p>2812 rows × 3 columns</p>\n",
       "</div>"
      ],
      "text/plain": [
       "      Credit  Debit  NonTrans\n",
       "1276       0      1         0\n",
       "3129       0      1         0\n",
       "1177       0      1         0\n",
       "1058       1      0         0\n",
       "3503       0      1         0\n",
       "...      ...    ...       ...\n",
       "3467       0      1         0\n",
       "1575       0      1         0\n",
       "1269       0      1         0\n",
       "3187       0      1         0\n",
       "1680       1      0         0\n",
       "\n",
       "[2812 rows x 3 columns]"
      ]
     },
     "execution_count": 29,
     "metadata": {},
     "output_type": "execute_result"
    }
   ],
   "source": [
    "y_train_dumm"
   ]
  },
  {
   "cell_type": "code",
   "execution_count": 30,
   "metadata": {
    "ExecuteTime": {
     "end_time": "2020-01-07T13:16:41.742977Z",
     "start_time": "2020-01-07T13:16:41.736569Z"
    }
   },
   "outputs": [
    {
     "data": {
      "text/plain": [
       "Index(['Credit', 'Debit', 'NonTrans'], dtype='object')"
      ]
     },
     "execution_count": 30,
     "metadata": {},
     "output_type": "execute_result"
    }
   ],
   "source": [
    "labels = y_train_dumm.columns\n",
    "labels"
   ]
  },
  {
   "cell_type": "markdown",
   "metadata": {},
   "source": [
    "### 4.2 creating a CNN graph to learn the above embeddings"
   ]
  },
  {
   "cell_type": "code",
   "execution_count": 31,
   "metadata": {
    "ExecuteTime": {
     "end_time": "2020-01-07T13:16:41.773498Z",
     "start_time": "2020-01-07T13:16:41.747839Z"
    }
   },
   "outputs": [],
   "source": [
    "class build_CNN:\n",
    "        \n",
    "    def get_graph(self,input_shape,cnn_params):\n",
    "        main_input = Input(shape=input_shape, name=\"input_layer\")\n",
    "        outputs = []\n",
    "        l2_reg = regularizers.l2(cnn_params['l2_reg_value'])\n",
    "        for i in cnn_params['filter_sizes']:\n",
    "            filter_height = i\n",
    "            conv_filter_i = Conv1D(cnn_params['no_of_filters'],filter_height,strides=1,padding='valid',kernel_initializer='he_normal', kernel_regularizer=l2_reg,data_format='channels_last')\n",
    "            conved_i = conv_filter_i(main_input)\n",
    "            activation_layer = Activation(cnn_params['activation'])\n",
    "            activation_i = activation_layer(conved_i)\n",
    "\n",
    "            if cnn_params['dropout']:\n",
    "                activation_i = Dropout( cnn_params['dropout'])(activation_i)\n",
    "\n",
    "            pooling_i = MaxPooling1D(pool_size= cnn_params['max_pool_filter'],strides=1,data_format='channels_last')\n",
    "            pooled_i = pooling_i(activation_i)\n",
    "\n",
    "            outputs.append(pooled_i)\n",
    "\n",
    "        merge_conv = Concatenate(axis=1)\n",
    "        merged_conv_outputs = merge_conv(outputs)\n",
    "\n",
    "        if cnn_params['flatten']:\n",
    "            merged_conv_outputs = Flatten()(merged_conv_outputs)\n",
    "        graph = Model(inputs=main_input,outputs=merged_conv_outputs)\n",
    "        print(graph.summary())\n",
    "        return graph\n",
    "   \n",
    "    def build_model(self,input_shape,output_shape,cnn_params):#no_of_filters,filter_sizes):\n",
    "        model = Sequential()\n",
    "        core_graph = self.get_graph(input_shape,cnn_params)\n",
    "        model.add(core_graph)\n",
    "\n",
    "        l2_reg = regularizers.l2(cnn_params['l2_reg_value'])\n",
    "        if cnn_params['no_of_hidden_layers'] > 0:\n",
    "            for ith_no in range(cnn_params['no_of_hidden_layers']):\n",
    "                hidden_layer_shape = cnn_params['hidden_layer_shapes'][ith_no]\n",
    "                model.add(Dense(hidden_layer_shape,kernel_initializer= cnn_params['init'],kernel_regularizer=l2_reg))\n",
    "                model.add(Activation(cnn_params['activation']))\n",
    "#                 model.add(Activation('tanh'))\n",
    "        model.add(Dense(output_shape,activation='softmax',kernel_initializer=cnn_params['init'],kernel_regularizer=l2_reg))\n",
    "        \n",
    "        adam_opt = optimizers.Adam(lr=cnn_params['learning_rate'], beta_1=cnn_params['beta1'], beta_2=cnn_params['beta2'], epsilon=1e-7, amsgrad=False)\n",
    "        model.compile(loss='categorical_crossentropy', optimizer=adam_opt, metrics=['categorical_accuracy','accuracy'])\n",
    "        print(model.summary())\n",
    "        \n",
    "        return model\n"
   ]
  },
  {
   "cell_type": "code",
   "execution_count": 32,
   "metadata": {
    "ExecuteTime": {
     "end_time": "2020-01-07T13:16:41.789197Z",
     "start_time": "2020-01-07T13:16:41.777619Z"
    }
   },
   "outputs": [],
   "source": [
    "def train_model(x_train, y_train, cnn_params, path=None, validation_split=0.2):\n",
    "\n",
    "    if isinstance(x_train,pd.Series):\n",
    "        x_train = np.array(x_train.tolist())\n",
    "    print(x_train.shape)\n",
    "    embedding_output_dim = x_train.shape[2]\n",
    "    input_length = x_train.shape[1]\n",
    "    input_shape = (input_length, embedding_output_dim)\n",
    "    output_shape = y_train.shape[1]\n",
    "    \n",
    "    cnn_obj = build_CNN()\n",
    "    model = cnn_obj.build_model(input_shape, output_shape, cnn_params)\n",
    "    \n",
    "    adam_opt = optimizers.Adam(lr=cnn_params['learning_rate'], beta_1=cnn_params['beta1'], beta_2=cnn_params['beta2'], epsilon=1e-7, amsgrad=False)\n",
    "    model.compile(loss='categorical_crossentropy', optimizer=adam_opt, metrics=['categorical_accuracy','accuracy'])\n",
    "\n",
    "    early_stop = callbacks.EarlyStopping(monitor='val_loss',patience=50,restore_best_weights=True,verbose=1)\n",
    "\n",
    "    model.fit(x_train, y_train.values,batch_size = cnn_params['batch_size'],epochs = cnn_params['epochs'],\n",
    "         verbose=1,callbacks=[ early_stop],validation_split = validation_split,shuffle=False)\n",
    "\n",
    "    return model\n"
   ]
  },
  {
   "cell_type": "code",
   "execution_count": 33,
   "metadata": {
    "ExecuteTime": {
     "end_time": "2020-01-07T13:16:41.803405Z",
     "start_time": "2020-01-07T13:16:41.793412Z"
    }
   },
   "outputs": [],
   "source": [
    "cnn_params = {\n",
    "            'no_of_hidden_layers': 1,\n",
    "            'hidden_layer_shapes': [300],\n",
    "            'epochs': 20,\n",
    "            'no_of_filters': 30,\n",
    "            'filter_sizes': [2, 4],\n",
    "            'activation': 'relu',\n",
    "            'dropout': 0.2,\n",
    "            'batch_size': 32,\n",
    "            'pooling_type': 'average',\n",
    "            'merge_mode': 'auto',\n",
    "            'learning_rate':0.001,\n",
    "            'beta1':0.9,\n",
    "            'beta2':0.999,\n",
    "            'init':'he_normal',\n",
    "            'max_pool_filter':3,\n",
    "            'flatten':True,\n",
    "            'validation_split':0.2,\n",
    "            'l2_reg_value' :0.01\n",
    "\n",
    "    }"
   ]
  },
  {
   "cell_type": "code",
   "execution_count": 34,
   "metadata": {
    "ExecuteTime": {
     "end_time": "2020-01-07T13:18:27.293908Z",
     "start_time": "2020-01-07T13:16:41.807723Z"
    },
    "scrolled": true
   },
   "outputs": [
    {
     "name": "stdout",
     "output_type": "stream",
     "text": [
      "(2812, 87, 300)\n",
      "WARNING:tensorflow:From /Users/akshitasood/Desktop/py3/lib/python3.6/site-packages/tensorflow/python/framework/op_def_library.py:263: colocate_with (from tensorflow.python.framework.ops) is deprecated and will be removed in a future version.\n",
      "Instructions for updating:\n",
      "Colocations handled automatically by placer.\n",
      "WARNING:tensorflow:From /Users/akshitasood/Desktop/py3/lib/python3.6/site-packages/keras/backend/tensorflow_backend.py:3733: calling dropout (from tensorflow.python.ops.nn_ops) with keep_prob is deprecated and will be removed in a future version.\n",
      "Instructions for updating:\n",
      "Please use `rate` instead of `keep_prob`. Rate should be set to `rate = 1 - keep_prob`.\n",
      "Model: \"model_1\"\n",
      "__________________________________________________________________________________________________\n",
      "Layer (type)                    Output Shape         Param #     Connected to                     \n",
      "==================================================================================================\n",
      "input_layer (InputLayer)        (None, 87, 300)      0                                            \n",
      "__________________________________________________________________________________________________\n",
      "conv1d_1 (Conv1D)               (None, 86, 30)       18030       input_layer[0][0]                \n",
      "__________________________________________________________________________________________________\n",
      "conv1d_2 (Conv1D)               (None, 84, 30)       36030       input_layer[0][0]                \n",
      "__________________________________________________________________________________________________\n",
      "activation_1 (Activation)       (None, 86, 30)       0           conv1d_1[0][0]                   \n",
      "__________________________________________________________________________________________________\n",
      "activation_2 (Activation)       (None, 84, 30)       0           conv1d_2[0][0]                   \n",
      "__________________________________________________________________________________________________\n",
      "dropout_1 (Dropout)             (None, 86, 30)       0           activation_1[0][0]               \n",
      "__________________________________________________________________________________________________\n",
      "dropout_2 (Dropout)             (None, 84, 30)       0           activation_2[0][0]               \n",
      "__________________________________________________________________________________________________\n",
      "max_pooling1d_1 (MaxPooling1D)  (None, 84, 30)       0           dropout_1[0][0]                  \n",
      "__________________________________________________________________________________________________\n",
      "max_pooling1d_2 (MaxPooling1D)  (None, 82, 30)       0           dropout_2[0][0]                  \n",
      "__________________________________________________________________________________________________\n",
      "concatenate_1 (Concatenate)     (None, 166, 30)      0           max_pooling1d_1[0][0]            \n",
      "                                                                 max_pooling1d_2[0][0]            \n",
      "__________________________________________________________________________________________________\n",
      "flatten_1 (Flatten)             (None, 4980)         0           concatenate_1[0][0]              \n",
      "==================================================================================================\n",
      "Total params: 54,060\n",
      "Trainable params: 54,060\n",
      "Non-trainable params: 0\n",
      "__________________________________________________________________________________________________\n",
      "None\n",
      "Model: \"sequential_1\"\n",
      "_________________________________________________________________\n",
      "Layer (type)                 Output Shape              Param #   \n",
      "=================================================================\n",
      "model_1 (Model)              (None, 4980)              54060     \n",
      "_________________________________________________________________\n",
      "dense_1 (Dense)              (None, 300)               1494300   \n",
      "_________________________________________________________________\n",
      "activation_3 (Activation)    (None, 300)               0         \n",
      "_________________________________________________________________\n",
      "dense_2 (Dense)              (None, 3)                 903       \n",
      "=================================================================\n",
      "Total params: 1,549,263\n",
      "Trainable params: 1,549,263\n",
      "Non-trainable params: 0\n",
      "_________________________________________________________________\n",
      "None\n",
      "WARNING:tensorflow:From /Users/akshitasood/Desktop/py3/lib/python3.6/site-packages/tensorflow/python/ops/math_ops.py:3066: to_int32 (from tensorflow.python.ops.math_ops) is deprecated and will be removed in a future version.\n",
      "Instructions for updating:\n",
      "Use tf.cast instead.\n",
      "Train on 2249 samples, validate on 563 samples\n",
      "Epoch 1/20\n",
      "2249/2249 [==============================] - 7s 3ms/step - loss: 3.4534 - categorical_accuracy: 0.8088 - acc: 0.8088 - val_loss: 1.4493 - val_categorical_accuracy: 0.8952 - val_acc: 0.8952\n",
      "Epoch 2/20\n",
      "2249/2249 [==============================] - 6s 3ms/step - loss: 0.9884 - categorical_accuracy: 0.9409 - acc: 0.9409 - val_loss: 0.7403 - val_categorical_accuracy: 0.9236 - val_acc: 0.9236\n",
      "Epoch 3/20\n",
      "2249/2249 [==============================] - 5s 2ms/step - loss: 0.5839 - categorical_accuracy: 0.9524 - acc: 0.9524 - val_loss: 0.5000 - val_categorical_accuracy: 0.9485 - val_acc: 0.9485\n",
      "Epoch 4/20\n",
      "2249/2249 [==============================] - 6s 3ms/step - loss: 0.4103 - categorical_accuracy: 0.9667 - acc: 0.9667 - val_loss: 0.4001 - val_categorical_accuracy: 0.9538 - val_acc: 0.9538\n",
      "Epoch 5/20\n",
      "2249/2249 [==============================] - 6s 2ms/step - loss: 0.3440 - categorical_accuracy: 0.9684 - acc: 0.9684 - val_loss: 0.3790 - val_categorical_accuracy: 0.9538 - val_acc: 0.9538\n",
      "Epoch 6/20\n",
      "2249/2249 [==============================] - 6s 3ms/step - loss: 0.3169 - categorical_accuracy: 0.9671 - acc: 0.9671 - val_loss: 0.3559 - val_categorical_accuracy: 0.9538 - val_acc: 0.9538\n",
      "Epoch 7/20\n",
      "2249/2249 [==============================] - 6s 3ms/step - loss: 0.2865 - categorical_accuracy: 0.9742 - acc: 0.9742 - val_loss: 0.3303 - val_categorical_accuracy: 0.9574 - val_acc: 0.9574\n",
      "Epoch 8/20\n",
      "2249/2249 [==============================] - 5s 2ms/step - loss: 0.2859 - categorical_accuracy: 0.9702 - acc: 0.9702 - val_loss: 0.3095 - val_categorical_accuracy: 0.9609 - val_acc: 0.9609\n",
      "Epoch 9/20\n",
      "2249/2249 [==============================] - 5s 2ms/step - loss: 0.2653 - categorical_accuracy: 0.9764 - acc: 0.9764 - val_loss: 0.3242 - val_categorical_accuracy: 0.9485 - val_acc: 0.9485\n",
      "Epoch 10/20\n",
      "2249/2249 [==============================] - 5s 2ms/step - loss: 0.2688 - categorical_accuracy: 0.9729 - acc: 0.9729 - val_loss: 0.3285 - val_categorical_accuracy: 0.9467 - val_acc: 0.9467\n",
      "Epoch 11/20\n",
      "2249/2249 [==============================] - 5s 2ms/step - loss: 0.2603 - categorical_accuracy: 0.9742 - acc: 0.9742 - val_loss: 0.3117 - val_categorical_accuracy: 0.9680 - val_acc: 0.9680\n",
      "Epoch 12/20\n",
      "2249/2249 [==============================] - 5s 2ms/step - loss: 0.2679 - categorical_accuracy: 0.9769 - acc: 0.9769 - val_loss: 0.3130 - val_categorical_accuracy: 0.9663 - val_acc: 0.9663\n",
      "Epoch 13/20\n",
      "2249/2249 [==============================] - 5s 2ms/step - loss: 0.2717 - categorical_accuracy: 0.9711 - acc: 0.9711 - val_loss: 0.3018 - val_categorical_accuracy: 0.9680 - val_acc: 0.9680\n",
      "Epoch 14/20\n",
      "2249/2249 [==============================] - 5s 2ms/step - loss: 0.2479 - categorical_accuracy: 0.9787 - acc: 0.9787 - val_loss: 0.2896 - val_categorical_accuracy: 0.9663 - val_acc: 0.9663\n",
      "Epoch 15/20\n",
      "2249/2249 [==============================] - 5s 2ms/step - loss: 0.2396 - categorical_accuracy: 0.9795 - acc: 0.9795 - val_loss: 0.2760 - val_categorical_accuracy: 0.9627 - val_acc: 0.9627\n",
      "Epoch 16/20\n",
      "2249/2249 [==============================] - 5s 2ms/step - loss: 0.2431 - categorical_accuracy: 0.9764 - acc: 0.9764 - val_loss: 0.2881 - val_categorical_accuracy: 0.9645 - val_acc: 0.9645\n",
      "Epoch 17/20\n",
      "2249/2249 [==============================] - 5s 2ms/step - loss: 0.2519 - categorical_accuracy: 0.9733 - acc: 0.9733 - val_loss: 0.2851 - val_categorical_accuracy: 0.9609 - val_acc: 0.9609\n",
      "Epoch 18/20\n"
     ]
    },
    {
     "name": "stdout",
     "output_type": "stream",
     "text": [
      "2249/2249 [==============================] - 5s 2ms/step - loss: 0.2355 - categorical_accuracy: 0.9795 - acc: 0.9795 - val_loss: 0.2705 - val_categorical_accuracy: 0.9698 - val_acc: 0.9698\n",
      "Epoch 19/20\n",
      "2249/2249 [==============================] - 5s 2ms/step - loss: 0.2356 - categorical_accuracy: 0.9778 - acc: 0.9778 - val_loss: 0.2918 - val_categorical_accuracy: 0.9591 - val_acc: 0.9591\n",
      "Epoch 20/20\n",
      "2249/2249 [==============================] - 5s 2ms/step - loss: 0.2445 - categorical_accuracy: 0.9773 - acc: 0.9773 - val_loss: 0.2829 - val_categorical_accuracy: 0.9609 - val_acc: 0.9609\n"
     ]
    }
   ],
   "source": [
    "K.clear_session()\n",
    "model = train_model(X_train_feats, y_train_dumm, cnn_params, path=None, validation_split=0.2)"
   ]
  },
  {
   "cell_type": "code",
   "execution_count": 35,
   "metadata": {
    "ExecuteTime": {
     "end_time": "2020-01-07T13:18:27.303471Z",
     "start_time": "2020-01-07T13:18:27.296419Z"
    }
   },
   "outputs": [],
   "source": [
    "def get_predictions(X_test_ser):\n",
    "    x_test = np.array(X_test_ser.tolist())\n",
    "    print(x_test.shape)\n",
    "    preds = model.predict(x_test )\n",
    "    preds = pd.DataFrame(preds, index=X_test_ser.index, columns=labels)\n",
    "    return preds\n"
   ]
  },
  {
   "cell_type": "code",
   "execution_count": 36,
   "metadata": {
    "ExecuteTime": {
     "end_time": "2020-01-07T13:18:27.903908Z",
     "start_time": "2020-01-07T13:18:27.306474Z"
    }
   },
   "outputs": [
    {
     "name": "stdout",
     "output_type": "stream",
     "text": [
      "(703, 87, 300)\n"
     ]
    }
   ],
   "source": [
    "preds = get_predictions(X_test_feats)"
   ]
  },
  {
   "cell_type": "code",
   "execution_count": 37,
   "metadata": {
    "ExecuteTime": {
     "end_time": "2020-01-07T13:18:27.923143Z",
     "start_time": "2020-01-07T13:18:27.907371Z"
    }
   },
   "outputs": [
    {
     "data": {
      "text/html": [
       "<div>\n",
       "<style scoped>\n",
       "    .dataframe tbody tr th:only-of-type {\n",
       "        vertical-align: middle;\n",
       "    }\n",
       "\n",
       "    .dataframe tbody tr th {\n",
       "        vertical-align: top;\n",
       "    }\n",
       "\n",
       "    .dataframe thead th {\n",
       "        text-align: right;\n",
       "    }\n",
       "</style>\n",
       "<table border=\"1\" class=\"dataframe\">\n",
       "  <thead>\n",
       "    <tr style=\"text-align: right;\">\n",
       "      <th></th>\n",
       "      <th>Credit</th>\n",
       "      <th>Debit</th>\n",
       "      <th>NonTrans</th>\n",
       "    </tr>\n",
       "  </thead>\n",
       "  <tbody>\n",
       "    <tr>\n",
       "      <td>2656</td>\n",
       "      <td>0.001865</td>\n",
       "      <td>0.005941</td>\n",
       "      <td>0.992193</td>\n",
       "    </tr>\n",
       "    <tr>\n",
       "      <td>1340</td>\n",
       "      <td>0.000131</td>\n",
       "      <td>0.999401</td>\n",
       "      <td>0.000469</td>\n",
       "    </tr>\n",
       "    <tr>\n",
       "      <td>913</td>\n",
       "      <td>0.001404</td>\n",
       "      <td>0.998198</td>\n",
       "      <td>0.000399</td>\n",
       "    </tr>\n",
       "    <tr>\n",
       "      <td>219</td>\n",
       "      <td>0.000061</td>\n",
       "      <td>0.999626</td>\n",
       "      <td>0.000313</td>\n",
       "    </tr>\n",
       "    <tr>\n",
       "      <td>1193</td>\n",
       "      <td>0.001387</td>\n",
       "      <td>0.998310</td>\n",
       "      <td>0.000303</td>\n",
       "    </tr>\n",
       "  </tbody>\n",
       "</table>\n",
       "</div>"
      ],
      "text/plain": [
       "        Credit     Debit  NonTrans\n",
       "2656  0.001865  0.005941  0.992193\n",
       "1340  0.000131  0.999401  0.000469\n",
       "913   0.001404  0.998198  0.000399\n",
       "219   0.000061  0.999626  0.000313\n",
       "1193  0.001387  0.998310  0.000303"
      ]
     },
     "execution_count": 37,
     "metadata": {},
     "output_type": "execute_result"
    }
   ],
   "source": [
    "preds.head()"
   ]
  },
  {
   "cell_type": "code",
   "execution_count": 38,
   "metadata": {
    "ExecuteTime": {
     "end_time": "2020-01-07T13:18:28.018140Z",
     "start_time": "2020-01-07T13:18:27.926908Z"
    }
   },
   "outputs": [
    {
     "data": {
      "text/plain": [
       "2656    NonTrans\n",
       "1340       Debit\n",
       "913        Debit\n",
       "219        Debit\n",
       "1193       Debit\n",
       "          ...   \n",
       "3033       Debit\n",
       "2210    NonTrans\n",
       "410        Debit\n",
       "738       Credit\n",
       "3027      Credit\n",
       "Length: 703, dtype: object"
      ]
     },
     "execution_count": 38,
     "metadata": {},
     "output_type": "execute_result"
    }
   ],
   "source": [
    "preds_classes = preds.apply(lambda x: x.idxmax(), axis=1)\n",
    "preds_classes"
   ]
  },
  {
   "cell_type": "code",
   "execution_count": 39,
   "metadata": {
    "ExecuteTime": {
     "end_time": "2020-01-07T13:18:28.040746Z",
     "start_time": "2020-01-07T13:18:28.021920Z"
    }
   },
   "outputs": [
    {
     "data": {
      "text/html": [
       "<div>\n",
       "<style scoped>\n",
       "    .dataframe tbody tr th:only-of-type {\n",
       "        vertical-align: middle;\n",
       "    }\n",
       "\n",
       "    .dataframe tbody tr th {\n",
       "        vertical-align: top;\n",
       "    }\n",
       "\n",
       "    .dataframe thead th {\n",
       "        text-align: right;\n",
       "    }\n",
       "</style>\n",
       "<table border=\"1\" class=\"dataframe\">\n",
       "  <thead>\n",
       "    <tr style=\"text-align: right;\">\n",
       "      <th></th>\n",
       "      <th>Body</th>\n",
       "      <th>Credit</th>\n",
       "      <th>Expense</th>\n",
       "      <th>Label</th>\n",
       "      <th>sentences</th>\n",
       "      <th>sent_len</th>\n",
       "      <th>preds</th>\n",
       "    </tr>\n",
       "  </thead>\n",
       "  <tbody>\n",
       "    <tr>\n",
       "      <td>0</td>\n",
       "      <td>Your Acc XX800006 is debited for INR 90.00 on ...</td>\n",
       "      <td>0.0</td>\n",
       "      <td>90.00</td>\n",
       "      <td>Debit</td>\n",
       "      <td>your acc    is debited for inr 90.00 on 11-oct...</td>\n",
       "      <td>169</td>\n",
       "      <td>NaN</td>\n",
       "    </tr>\n",
       "    <tr>\n",
       "      <td>1</td>\n",
       "      <td>We noticed that you abandoned your cart! We've...</td>\n",
       "      <td>0.0</td>\n",
       "      <td>0.00</td>\n",
       "      <td>NonTrans</td>\n",
       "      <td>we noticed that you abandoned your cart! we've...</td>\n",
       "      <td>290</td>\n",
       "      <td>NaN</td>\n",
       "    </tr>\n",
       "    <tr>\n",
       "      <td>2</td>\n",
       "      <td>Acct XXX423 debited with INR105.00 on 10-Oct-1...</td>\n",
       "      <td>0.0</td>\n",
       "      <td>105.00</td>\n",
       "      <td>Debit</td>\n",
       "      <td>acct   debited with inr105.00 on 10-oct-19 and...</td>\n",
       "      <td>102</td>\n",
       "      <td>Debit</td>\n",
       "    </tr>\n",
       "    <tr>\n",
       "      <td>3</td>\n",
       "      <td>Your Acc XX800006 is debited for INR 577.52 on...</td>\n",
       "      <td>0.0</td>\n",
       "      <td>577.52</td>\n",
       "      <td>Debit</td>\n",
       "      <td>your acc    is debited for inr 577.52 on 10-oc...</td>\n",
       "      <td>170</td>\n",
       "      <td>NaN</td>\n",
       "    </tr>\n",
       "    <tr>\n",
       "      <td>4</td>\n",
       "      <td>Acct XXX423 debited with INR18.00 on 10-Oct-19...</td>\n",
       "      <td>0.0</td>\n",
       "      <td>18.00</td>\n",
       "      <td>Debit</td>\n",
       "      <td>acct   debited with inr18.00 on 10-oct-19 and ...</td>\n",
       "      <td>101</td>\n",
       "      <td>NaN</td>\n",
       "    </tr>\n",
       "  </tbody>\n",
       "</table>\n",
       "</div>"
      ],
      "text/plain": [
       "                                                Body  Credit  Expense  \\\n",
       "0  Your Acc XX800006 is debited for INR 90.00 on ...     0.0    90.00   \n",
       "1  We noticed that you abandoned your cart! We've...     0.0     0.00   \n",
       "2  Acct XXX423 debited with INR105.00 on 10-Oct-1...     0.0   105.00   \n",
       "3  Your Acc XX800006 is debited for INR 577.52 on...     0.0   577.52   \n",
       "4  Acct XXX423 debited with INR18.00 on 10-Oct-19...     0.0    18.00   \n",
       "\n",
       "      Label                                          sentences  sent_len  \\\n",
       "0     Debit  your acc    is debited for inr 90.00 on 11-oct...       169   \n",
       "1  NonTrans  we noticed that you abandoned your cart! we've...       290   \n",
       "2     Debit  acct   debited with inr105.00 on 10-oct-19 and...       102   \n",
       "3     Debit  your acc    is debited for inr 577.52 on 10-oc...       170   \n",
       "4     Debit  acct   debited with inr18.00 on 10-oct-19 and ...       101   \n",
       "\n",
       "   preds  \n",
       "0    NaN  \n",
       "1    NaN  \n",
       "2  Debit  \n",
       "3    NaN  \n",
       "4    NaN  "
      ]
     },
     "execution_count": 39,
     "metadata": {},
     "output_type": "execute_result"
    }
   ],
   "source": [
    "df['preds'] = preds_classes\n",
    "df.head()"
   ]
  },
  {
   "cell_type": "code",
   "execution_count": 40,
   "metadata": {
    "ExecuteTime": {
     "end_time": "2020-01-07T13:18:28.473055Z",
     "start_time": "2020-01-07T13:18:28.044373Z"
    }
   },
   "outputs": [
    {
     "data": {
      "text/html": [
       "<div>\n",
       "<style scoped>\n",
       "    .dataframe tbody tr th:only-of-type {\n",
       "        vertical-align: middle;\n",
       "    }\n",
       "\n",
       "    .dataframe tbody tr th {\n",
       "        vertical-align: top;\n",
       "    }\n",
       "\n",
       "    .dataframe thead th {\n",
       "        text-align: right;\n",
       "    }\n",
       "</style>\n",
       "<table border=\"1\" class=\"dataframe\">\n",
       "  <thead>\n",
       "    <tr style=\"text-align: right;\">\n",
       "      <th></th>\n",
       "      <th>Credit</th>\n",
       "      <th>Debit</th>\n",
       "      <th>NonTrans</th>\n",
       "    </tr>\n",
       "  </thead>\n",
       "  <tbody>\n",
       "    <tr>\n",
       "      <td>2656</td>\n",
       "      <td>0</td>\n",
       "      <td>0</td>\n",
       "      <td>1</td>\n",
       "    </tr>\n",
       "    <tr>\n",
       "      <td>1340</td>\n",
       "      <td>0</td>\n",
       "      <td>1</td>\n",
       "      <td>0</td>\n",
       "    </tr>\n",
       "    <tr>\n",
       "      <td>913</td>\n",
       "      <td>0</td>\n",
       "      <td>1</td>\n",
       "      <td>0</td>\n",
       "    </tr>\n",
       "    <tr>\n",
       "      <td>219</td>\n",
       "      <td>0</td>\n",
       "      <td>1</td>\n",
       "      <td>0</td>\n",
       "    </tr>\n",
       "    <tr>\n",
       "      <td>1193</td>\n",
       "      <td>0</td>\n",
       "      <td>1</td>\n",
       "      <td>0</td>\n",
       "    </tr>\n",
       "  </tbody>\n",
       "</table>\n",
       "</div>"
      ],
      "text/plain": [
       "      Credit  Debit  NonTrans\n",
       "2656       0      0         1\n",
       "1340       0      1         0\n",
       "913        0      1         0\n",
       "219        0      1         0\n",
       "1193       0      1         0"
      ]
     },
     "execution_count": 40,
     "metadata": {},
     "output_type": "execute_result"
    }
   ],
   "source": [
    "preds_final = (preds.T.max() == preds.T).T.astype(int)\n",
    "preds_final.head()"
   ]
  },
  {
   "cell_type": "code",
   "execution_count": 41,
   "metadata": {
    "ExecuteTime": {
     "end_time": "2020-01-07T13:18:28.483073Z",
     "start_time": "2020-01-07T13:18:28.475925Z"
    }
   },
   "outputs": [
    {
     "data": {
      "text/plain": [
       "((703, 3), (703, 3))"
      ]
     },
     "execution_count": 41,
     "metadata": {},
     "output_type": "execute_result"
    }
   ],
   "source": [
    "y_test_dumm.shape, preds_final.shape"
   ]
  },
  {
   "cell_type": "code",
   "execution_count": 42,
   "metadata": {
    "ExecuteTime": {
     "end_time": "2020-01-07T13:18:28.494612Z",
     "start_time": "2020-01-07T13:18:28.486568Z"
    }
   },
   "outputs": [
    {
     "data": {
      "text/plain": [
       "True"
      ]
     },
     "execution_count": 42,
     "metadata": {},
     "output_type": "execute_result"
    }
   ],
   "source": [
    "(preds_final.index == y_test_dumm.index).any()"
   ]
  },
  {
   "cell_type": "code",
   "execution_count": 43,
   "metadata": {
    "ExecuteTime": {
     "end_time": "2020-01-07T13:18:28.505805Z",
     "start_time": "2020-01-07T13:18:28.498255Z"
    }
   },
   "outputs": [
    {
     "data": {
      "text/plain": [
       "True"
      ]
     },
     "execution_count": 43,
     "metadata": {},
     "output_type": "execute_result"
    }
   ],
   "source": [
    "(preds_final.columns == y_test_dumm.columns).any()"
   ]
  },
  {
   "cell_type": "code",
   "execution_count": 44,
   "metadata": {
    "ExecuteTime": {
     "end_time": "2020-01-07T13:18:28.522041Z",
     "start_time": "2020-01-07T13:18:28.508985Z"
    }
   },
   "outputs": [
    {
     "data": {
      "text/plain": [
       "array([[0, 0, 1],\n",
       "       [0, 1, 0],\n",
       "       [0, 1, 0],\n",
       "       ...,\n",
       "       [0, 1, 0],\n",
       "       [1, 0, 0],\n",
       "       [1, 0, 0]])"
      ]
     },
     "execution_count": 44,
     "metadata": {},
     "output_type": "execute_result"
    }
   ],
   "source": [
    "preds_final.values"
   ]
  },
  {
   "cell_type": "code",
   "execution_count": 45,
   "metadata": {
    "ExecuteTime": {
     "end_time": "2020-01-07T13:18:28.536679Z",
     "start_time": "2020-01-07T13:18:28.528705Z"
    }
   },
   "outputs": [],
   "source": [
    "y_test_dumm.sort_index(inplace=True)\n",
    "preds_final.sort_index(inplace=True)"
   ]
  },
  {
   "cell_type": "code",
   "execution_count": 46,
   "metadata": {
    "ExecuteTime": {
     "end_time": "2020-01-07T13:18:28.554196Z",
     "start_time": "2020-01-07T13:18:28.539886Z"
    }
   },
   "outputs": [
    {
     "data": {
      "text/html": [
       "<div>\n",
       "<style scoped>\n",
       "    .dataframe tbody tr th:only-of-type {\n",
       "        vertical-align: middle;\n",
       "    }\n",
       "\n",
       "    .dataframe tbody tr th {\n",
       "        vertical-align: top;\n",
       "    }\n",
       "\n",
       "    .dataframe thead th {\n",
       "        text-align: right;\n",
       "    }\n",
       "</style>\n",
       "<table border=\"1\" class=\"dataframe\">\n",
       "  <thead>\n",
       "    <tr style=\"text-align: right;\">\n",
       "      <th></th>\n",
       "      <th>Credit</th>\n",
       "      <th>Debit</th>\n",
       "      <th>NonTrans</th>\n",
       "    </tr>\n",
       "  </thead>\n",
       "  <tbody>\n",
       "    <tr>\n",
       "      <td>2</td>\n",
       "      <td>0</td>\n",
       "      <td>1</td>\n",
       "      <td>0</td>\n",
       "    </tr>\n",
       "    <tr>\n",
       "      <td>9</td>\n",
       "      <td>0</td>\n",
       "      <td>1</td>\n",
       "      <td>0</td>\n",
       "    </tr>\n",
       "    <tr>\n",
       "      <td>11</td>\n",
       "      <td>0</td>\n",
       "      <td>1</td>\n",
       "      <td>0</td>\n",
       "    </tr>\n",
       "    <tr>\n",
       "      <td>16</td>\n",
       "      <td>0</td>\n",
       "      <td>1</td>\n",
       "      <td>0</td>\n",
       "    </tr>\n",
       "    <tr>\n",
       "      <td>21</td>\n",
       "      <td>0</td>\n",
       "      <td>1</td>\n",
       "      <td>0</td>\n",
       "    </tr>\n",
       "    <tr>\n",
       "      <td>...</td>\n",
       "      <td>...</td>\n",
       "      <td>...</td>\n",
       "      <td>...</td>\n",
       "    </tr>\n",
       "    <tr>\n",
       "      <td>3496</td>\n",
       "      <td>0</td>\n",
       "      <td>1</td>\n",
       "      <td>0</td>\n",
       "    </tr>\n",
       "    <tr>\n",
       "      <td>3509</td>\n",
       "      <td>0</td>\n",
       "      <td>1</td>\n",
       "      <td>0</td>\n",
       "    </tr>\n",
       "    <tr>\n",
       "      <td>3510</td>\n",
       "      <td>0</td>\n",
       "      <td>1</td>\n",
       "      <td>0</td>\n",
       "    </tr>\n",
       "    <tr>\n",
       "      <td>3516</td>\n",
       "      <td>0</td>\n",
       "      <td>1</td>\n",
       "      <td>0</td>\n",
       "    </tr>\n",
       "    <tr>\n",
       "      <td>3519</td>\n",
       "      <td>0</td>\n",
       "      <td>1</td>\n",
       "      <td>0</td>\n",
       "    </tr>\n",
       "  </tbody>\n",
       "</table>\n",
       "<p>703 rows × 3 columns</p>\n",
       "</div>"
      ],
      "text/plain": [
       "      Credit  Debit  NonTrans\n",
       "2          0      1         0\n",
       "9          0      1         0\n",
       "11         0      1         0\n",
       "16         0      1         0\n",
       "21         0      1         0\n",
       "...      ...    ...       ...\n",
       "3496       0      1         0\n",
       "3509       0      1         0\n",
       "3510       0      1         0\n",
       "3516       0      1         0\n",
       "3519       0      1         0\n",
       "\n",
       "[703 rows x 3 columns]"
      ]
     },
     "execution_count": 46,
     "metadata": {},
     "output_type": "execute_result"
    }
   ],
   "source": [
    "y_test_dumm"
   ]
  },
  {
   "cell_type": "code",
   "execution_count": 47,
   "metadata": {
    "ExecuteTime": {
     "end_time": "2020-01-07T13:18:28.574392Z",
     "start_time": "2020-01-07T13:18:28.557778Z"
    }
   },
   "outputs": [
    {
     "data": {
      "text/html": [
       "<div>\n",
       "<style scoped>\n",
       "    .dataframe tbody tr th:only-of-type {\n",
       "        vertical-align: middle;\n",
       "    }\n",
       "\n",
       "    .dataframe tbody tr th {\n",
       "        vertical-align: top;\n",
       "    }\n",
       "\n",
       "    .dataframe thead th {\n",
       "        text-align: right;\n",
       "    }\n",
       "</style>\n",
       "<table border=\"1\" class=\"dataframe\">\n",
       "  <thead>\n",
       "    <tr style=\"text-align: right;\">\n",
       "      <th></th>\n",
       "      <th>Credit</th>\n",
       "      <th>Debit</th>\n",
       "      <th>NonTrans</th>\n",
       "    </tr>\n",
       "  </thead>\n",
       "  <tbody>\n",
       "    <tr>\n",
       "      <td>2</td>\n",
       "      <td>0</td>\n",
       "      <td>1</td>\n",
       "      <td>0</td>\n",
       "    </tr>\n",
       "    <tr>\n",
       "      <td>9</td>\n",
       "      <td>0</td>\n",
       "      <td>1</td>\n",
       "      <td>0</td>\n",
       "    </tr>\n",
       "    <tr>\n",
       "      <td>11</td>\n",
       "      <td>0</td>\n",
       "      <td>1</td>\n",
       "      <td>0</td>\n",
       "    </tr>\n",
       "    <tr>\n",
       "      <td>16</td>\n",
       "      <td>0</td>\n",
       "      <td>1</td>\n",
       "      <td>0</td>\n",
       "    </tr>\n",
       "    <tr>\n",
       "      <td>21</td>\n",
       "      <td>0</td>\n",
       "      <td>1</td>\n",
       "      <td>0</td>\n",
       "    </tr>\n",
       "    <tr>\n",
       "      <td>...</td>\n",
       "      <td>...</td>\n",
       "      <td>...</td>\n",
       "      <td>...</td>\n",
       "    </tr>\n",
       "    <tr>\n",
       "      <td>3496</td>\n",
       "      <td>0</td>\n",
       "      <td>1</td>\n",
       "      <td>0</td>\n",
       "    </tr>\n",
       "    <tr>\n",
       "      <td>3509</td>\n",
       "      <td>0</td>\n",
       "      <td>1</td>\n",
       "      <td>0</td>\n",
       "    </tr>\n",
       "    <tr>\n",
       "      <td>3510</td>\n",
       "      <td>0</td>\n",
       "      <td>1</td>\n",
       "      <td>0</td>\n",
       "    </tr>\n",
       "    <tr>\n",
       "      <td>3516</td>\n",
       "      <td>0</td>\n",
       "      <td>1</td>\n",
       "      <td>0</td>\n",
       "    </tr>\n",
       "    <tr>\n",
       "      <td>3519</td>\n",
       "      <td>0</td>\n",
       "      <td>1</td>\n",
       "      <td>0</td>\n",
       "    </tr>\n",
       "  </tbody>\n",
       "</table>\n",
       "<p>703 rows × 3 columns</p>\n",
       "</div>"
      ],
      "text/plain": [
       "      Credit  Debit  NonTrans\n",
       "2          0      1         0\n",
       "9          0      1         0\n",
       "11         0      1         0\n",
       "16         0      1         0\n",
       "21         0      1         0\n",
       "...      ...    ...       ...\n",
       "3496       0      1         0\n",
       "3509       0      1         0\n",
       "3510       0      1         0\n",
       "3516       0      1         0\n",
       "3519       0      1         0\n",
       "\n",
       "[703 rows x 3 columns]"
      ]
     },
     "execution_count": 47,
     "metadata": {},
     "output_type": "execute_result"
    }
   ],
   "source": [
    "preds_final"
   ]
  },
  {
   "cell_type": "markdown",
   "metadata": {
    "ExecuteTime": {
     "end_time": "2019-11-03T11:40:30.948243Z",
     "start_time": "2019-11-03T11:40:30.943544Z"
    }
   },
   "source": [
    "### 4.3 Generating the classification report"
   ]
  },
  {
   "cell_type": "code",
   "execution_count": 48,
   "metadata": {
    "ExecuteTime": {
     "end_time": "2020-01-07T13:18:28.593428Z",
     "start_time": "2020-01-07T13:18:28.577741Z"
    }
   },
   "outputs": [
    {
     "name": "stdout",
     "output_type": "stream",
     "text": [
      "             precision    recall  f1-score   support\n",
      "\n",
      "     Credit       0.96      0.89      0.92       122\n",
      "      Debit       0.97      0.99      0.98       465\n",
      "   NonTrans       0.88      0.90      0.89       116\n",
      "\n",
      "avg / total       0.96      0.96      0.96       703\n",
      "\n"
     ]
    }
   ],
   "source": [
    "from sklearn.metrics import classification_report\n",
    "ff = classification_report(y_test_dumm.values, preds_final.values,target_names=preds_final.columns.tolist())\n",
    "\n",
    "print(ff)"
   ]
  },
  {
   "cell_type": "code",
   "execution_count": 49,
   "metadata": {
    "ExecuteTime": {
     "end_time": "2020-01-07T13:18:28.605574Z",
     "start_time": "2020-01-07T13:18:28.596967Z"
    }
   },
   "outputs": [
    {
     "data": {
      "text/plain": [
       "Debit       465\n",
       "Credit      122\n",
       "NonTrans    116\n",
       "Name: Label, dtype: int64"
      ]
     },
     "execution_count": 49,
     "metadata": {},
     "output_type": "execute_result"
    }
   ],
   "source": [
    "y_test.value_counts()"
   ]
  },
  {
   "cell_type": "markdown",
   "metadata": {},
   "source": [
    "**Results Summary:**\n",
    "_Provide a brief summary of results obtained like model accuracy & other insights based on EDA & your interpretations_\n",
    "\n",
    "1. The model has 96% recall at 96% precision\n",
    "2. The initial validation accuracy :0.8952, initial validation loss : 1.4493\n",
    "3. The maximum validation accuracy is 0.9609, and minimum validation loss is 0.2829"
   ]
  }
 ],
 "metadata": {
  "kernelspec": {
   "display_name": "Python 3",
   "language": "python",
   "name": "python3"
  },
  "language_info": {
   "codemirror_mode": {
    "name": "ipython",
    "version": 3
   },
   "file_extension": ".py",
   "mimetype": "text/x-python",
   "name": "python",
   "nbconvert_exporter": "python",
   "pygments_lexer": "ipython3",
   "version": "3.6.4"
  }
 },
 "nbformat": 4,
 "nbformat_minor": 2
}
